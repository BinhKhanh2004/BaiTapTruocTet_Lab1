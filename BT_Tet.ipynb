{
 "cells": [
  {
   "cell_type": "markdown",
   "metadata": {},
   "source": [
    "# LAB 2: NUMPY, PANDAS VÀ MATPLOTLIB NÂNG CAO"
   ]
  },
  {
   "cell_type": "markdown",
   "metadata": {},
   "source": [
    "# 1. NUMPY"
   ]
  },
  {
   "cell_type": "code",
   "execution_count": 5,
   "metadata": {},
   "outputs": [
    {
     "data": {
      "text/plain": [
       "array([3, 4, 5, 6, 7])"
      ]
     },
     "execution_count": 5,
     "metadata": {},
     "output_type": "execute_result"
    }
   ],
   "source": [
    "import numpy as np\n",
    "\n",
    "x = np.array([1, 2, 3, 4, 5, 6, 7, 8])\n",
    "\n",
    "# Lấy số 3\n",
    "x[2]"
   ]
  },
  {
   "cell_type": "code",
   "execution_count": 6,
   "metadata": {},
   "outputs": [
    {
     "data": {
      "text/plain": [
       "array([1, 2, 3])"
      ]
     },
     "execution_count": 6,
     "metadata": {},
     "output_type": "execute_result"
    }
   ],
   "source": [
    "# Lấy 1 2 3\n",
    "x[:3]"
   ]
  },
  {
   "cell_type": "code",
   "execution_count": 7,
   "metadata": {},
   "outputs": [
    {
     "data": {
      "text/plain": [
       "array([3, 4, 5, 6, 7])"
      ]
     },
     "execution_count": 7,
     "metadata": {},
     "output_type": "execute_result"
    }
   ],
   "source": [
    "# Lấy từ 3 đến 8\n",
    "x[2:7]"
   ]
  },
  {
   "cell_type": "code",
   "execution_count": 8,
   "metadata": {},
   "outputs": [
    {
     "data": {
      "text/plain": [
       "array([7, 8])"
      ]
     },
     "execution_count": 8,
     "metadata": {},
     "output_type": "execute_result"
    }
   ],
   "source": [
    "# 7, 8\n",
    "x[-2:]"
   ]
  },
  {
   "cell_type": "code",
   "execution_count": 14,
   "metadata": {},
   "outputs": [
    {
     "data": {
      "text/plain": [
       "(np.int64(3), np.int64(5))"
      ]
     },
     "execution_count": 14,
     "metadata": {},
     "output_type": "execute_result"
    }
   ],
   "source": [
    "# 2, 4\n",
    "x[2], x[4]"
   ]
  },
  {
   "cell_type": "code",
   "execution_count": 16,
   "metadata": {},
   "outputs": [
    {
     "name": "stdout",
     "output_type": "stream",
     "text": [
      "[[1 2]\n",
      " [3 4]\n",
      " [5 6]]\n"
     ]
    }
   ],
   "source": [
    "data = [[1, 2], [3, 4], [5, 6]]\n",
    "mang = np.array(data)\n",
    "print(mang)"
   ]
  },
  {
   "cell_type": "code",
   "execution_count": 21,
   "metadata": {},
   "outputs": [
    {
     "data": {
      "text/plain": [
       "np.int64(6)"
      ]
     },
     "execution_count": 21,
     "metadata": {},
     "output_type": "execute_result"
    }
   ],
   "source": [
    "mang[0, 1]"
   ]
  },
  {
   "cell_type": "code",
   "execution_count": 24,
   "metadata": {},
   "outputs": [
    {
     "data": {
      "text/plain": [
       "np.int64(6)"
      ]
     },
     "execution_count": 24,
     "metadata": {},
     "output_type": "execute_result"
    }
   ],
   "source": [
    "mang[2, 1]"
   ]
  },
  {
   "cell_type": "code",
   "execution_count": 27,
   "metadata": {},
   "outputs": [
    {
     "data": {
      "text/plain": [
       "array([[3, 4],\n",
       "       [5, 6]])"
      ]
     },
     "execution_count": 27,
     "metadata": {},
     "output_type": "execute_result"
    }
   ],
   "source": [
    "mang[1:, :]"
   ]
  },
  {
   "cell_type": "code",
   "execution_count": 28,
   "metadata": {},
   "outputs": [
    {
     "data": {
      "text/plain": [
       "array([[3, 4],\n",
       "       [5, 6]])"
      ]
     },
     "execution_count": 28,
     "metadata": {},
     "output_type": "execute_result"
    }
   ],
   "source": [
    "mang[1:]"
   ]
  },
  {
   "cell_type": "code",
   "execution_count": 29,
   "metadata": {},
   "outputs": [
    {
     "data": {
      "text/plain": [
       "array([[3, 4],\n",
       "       [5, 6]])"
      ]
     },
     "execution_count": 29,
     "metadata": {},
     "output_type": "execute_result"
    }
   ],
   "source": [
    "mang[[1, 2], :]"
   ]
  },
  {
   "cell_type": "code",
   "execution_count": 30,
   "metadata": {},
   "outputs": [
    {
     "data": {
      "text/plain": [
       "array([[3, 4],\n",
       "       [5, 6]])"
      ]
     },
     "execution_count": 30,
     "metadata": {},
     "output_type": "execute_result"
    }
   ],
   "source": [
    "mang[1: 3]"
   ]
  },
  {
   "cell_type": "code",
   "execution_count": 31,
   "metadata": {},
   "outputs": [
    {
     "data": {
      "text/plain": [
       "array([[3, 4],\n",
       "       [5, 6]])"
      ]
     },
     "execution_count": 31,
     "metadata": {},
     "output_type": "execute_result"
    }
   ],
   "source": [
    "mang[-2:]"
   ]
  },
  {
   "cell_type": "code",
   "execution_count": 32,
   "metadata": {},
   "outputs": [
    {
     "data": {
      "text/plain": [
       "array([1, 3, 5])"
      ]
     },
     "execution_count": 32,
     "metadata": {},
     "output_type": "execute_result"
    }
   ],
   "source": [
    "mang[:, 0]"
   ]
  },
  {
   "cell_type": "code",
   "execution_count": 33,
   "metadata": {},
   "outputs": [
    {
     "data": {
      "text/plain": [
       "array([1, 5])"
      ]
     },
     "execution_count": 33,
     "metadata": {},
     "output_type": "execute_result"
    }
   ],
   "source": [
    "mang[[0, 2], 00]"
   ]
  },
  {
   "cell_type": "code",
   "execution_count": 34,
   "metadata": {},
   "outputs": [
    {
     "data": {
      "text/plain": [
       "array([1, 5])"
      ]
     },
     "execution_count": 34,
     "metadata": {},
     "output_type": "execute_result"
    }
   ],
   "source": [
    "mang[::2, 0]"
   ]
  },
  {
   "cell_type": "code",
   "execution_count": 37,
   "metadata": {},
   "outputs": [],
   "source": [
    "x = [\n",
    "    [1, 2, 3, 4],\n",
    "    [5, 6, 7, 8],\n",
    "    [9, 10, 11, 12],\n",
    "    [13, 14, 15, 16]\n",
    "]\n",
    "\n",
    "x = np.array(x)"
   ]
  },
  {
   "cell_type": "code",
   "execution_count": 39,
   "metadata": {},
   "outputs": [
    {
     "data": {
      "text/plain": [
       "array([ 2,  6, 10, 14])"
      ]
     },
     "execution_count": 39,
     "metadata": {},
     "output_type": "execute_result"
    }
   ],
   "source": [
    "# Lấy 2 6 10 14\n",
    "x[:, 1]"
   ]
  },
  {
   "cell_type": "code",
   "execution_count": 40,
   "metadata": {},
   "outputs": [
    {
     "data": {
      "text/plain": [
       "array([ 7, 11])"
      ]
     },
     "execution_count": 40,
     "metadata": {},
     "output_type": "execute_result"
    }
   ],
   "source": [
    "# Lấy 7 và 11\n",
    "x[1:3, 2]"
   ]
  },
  {
   "cell_type": "code",
   "execution_count": 44,
   "metadata": {},
   "outputs": [
    {
     "data": {
      "text/plain": [
       "array([ 4,  7, 10])"
      ]
     },
     "execution_count": 44,
     "metadata": {},
     "output_type": "execute_result"
    }
   ],
   "source": [
    "# Lấy 4 7 10\n",
    "x[[0, 1, 2], [3, 2, 1]]"
   ]
  },
  {
   "cell_type": "code",
   "execution_count": 46,
   "metadata": {},
   "outputs": [
    {
     "data": {
      "text/plain": [
       "array([16, 15, 14, 13])"
      ]
     },
     "execution_count": 46,
     "metadata": {},
     "output_type": "execute_result"
    }
   ],
   "source": [
    "# Lấy 16 15 14 13\n",
    "x[3][::-1]"
   ]
  },
  {
   "cell_type": "code",
   "execution_count": 47,
   "metadata": {},
   "outputs": [
    {
     "data": {
      "text/plain": [
       "array([16, 15, 14, 13])"
      ]
     },
     "execution_count": 47,
     "metadata": {},
     "output_type": "execute_result"
    }
   ],
   "source": [
    "x[-1, -1::-1]"
   ]
  },
  {
   "cell_type": "code",
   "execution_count": null,
   "metadata": {},
   "outputs": [],
   "source": [
    "# Bài tập Tết về nhà\n",
    "\n",
    "# Cho ma trận = [\n",
    "#    [99, 99 ,99],\n",
    "#    [99, 99 ,99],\n",
    "#    [99, 99, 99]\n",
    "# ]\n",
    "\n",
    "# Giả sử 0 = 1 và 1 là x \n",
    "# Nhận đầu vào từ phía x và 0 luân phiên\n",
    "# Cho các bạn một cặp chỉ số\n",
    "# Nếu phía x nhập ((0, 0)) thì ma trận trở thành\n",
    "#   [\n",
    "#    [X, 99 ,99],\n",
    "#    [99, 99 ,99],\n",
    "#    [99, 99, 99]\n",
    "#   ]\n",
    "# Nếu phía 0 nhập ((0, 0)) thì yêu cầu nhập lại và nếu không thì điền vào ma trận\n",
    "# Thử thách của các bạn ở nhà ăn tết: Nếu ai đó có ba ô liên tiếp thì dừng trò chơi"
   ]
  },
  {
   "cell_type": "code",
   "execution_count": null,
   "metadata": {},
   "outputs": [
    {
     "name": "stdout",
     "output_type": "stream",
     "text": [
      "99 99 99\n",
      "99 99 99\n",
      "99 99 99\n",
      "\n",
      "Lượt của X\n",
      "99 99 99\n",
      "99 99 99\n",
      "99 99 X\n",
      "\n",
      "Lượt của O\n",
      "Ô đã được chọn. Vui lòng nhập lại.\n",
      "99 99 99\n",
      "99 99 99\n",
      "99 99 X\n",
      "\n",
      "Lượt của O\n",
      "99 99 99\n",
      "99 O 99\n",
      "99 99 X\n",
      "\n",
      "Lượt của X\n",
      "Ô đã được chọn. Vui lòng nhập lại.\n",
      "99 99 99\n",
      "99 O 99\n",
      "99 99 X\n",
      "\n",
      "Lượt của X\n",
      "Vị trí không hợp lệ. Vui lòng nhập lại.\n",
      "99 99 99\n",
      "99 O 99\n",
      "99 99 X\n",
      "\n",
      "Lượt của X\n",
      "Vị trí không hợp lệ. Vui lòng nhập lại.\n",
      "99 99 99\n",
      "99 O 99\n",
      "99 99 X\n",
      "\n",
      "Lượt của X\n",
      "Vị trí không hợp lệ. Vui lòng nhập lại.\n",
      "99 99 99\n",
      "99 O 99\n",
      "99 99 X\n",
      "\n",
      "Lượt của X\n",
      "Vị trí không hợp lệ. Vui lòng nhập lại.\n",
      "99 99 99\n",
      "99 O 99\n",
      "99 99 X\n",
      "\n",
      "Lượt của X\n",
      "X 99 99\n",
      "99 O 99\n",
      "99 99 X\n",
      "\n",
      "Lượt của O\n",
      "X O 99\n",
      "99 O 99\n",
      "99 99 X\n",
      "\n",
      "Lượt của X\n",
      "X O X\n",
      "99 O 99\n",
      "99 99 X\n",
      "\n",
      "Lượt của O\n",
      "Ô đã được chọn. Vui lòng nhập lại.\n",
      "X O X\n",
      "99 O 99\n",
      "99 99 X\n",
      "\n",
      "Lượt của O\n",
      "X O X\n",
      "O O 99\n",
      "99 99 X\n",
      "\n",
      "Lượt của X\n",
      "X O X\n",
      "O O X\n",
      "99 99 X\n",
      "\n",
      "X thắng!\n"
     ]
    }
   ],
   "source": [
    "def print_board(board):\n",
    "    for row in board:\n",
    "        print(\" \".join(map(str, row)))\n",
    "    print()\n",
    "\n",
    "def check_winner(board, player):\n",
    "    for row in board:\n",
    "        if all(cell == player for cell in row):\n",
    "            return True\n",
    "\n",
    "    for col in range(3):\n",
    "        if all(board[row][col] == player for row in range(3)):\n",
    "            return True\n",
    "\n",
    "    if all(board[i][i] == player for i in range(3)) or all(board[i][2 - i] == player for i in range(3)):\n",
    "        return True\n",
    "\n",
    "    return False\n",
    "\n",
    "def is_board_full(board):\n",
    "    return all(cell != 99 for row in board for cell in row)\n",
    "\n",
    "def main():\n",
    "    board = [\n",
    "        [99, 99, 99],\n",
    "        [99, 99, 99],\n",
    "        [99, 99, 99]\n",
    "    ]\n",
    "\n",
    "    current_player = 'X'\n",
    "\n",
    "    while True:\n",
    "        print_board(board)\n",
    "        print(f\"Lượt của {current_player}\")\n",
    "\n",
    "        try:\n",
    "            row, col = map(int, input(\"Nhập vị trí (hàng, cột): \").split())\n",
    "            if row < 0 or row > 2 or col < 0 or col > 2:\n",
    "                print(\"Vị trí không hợp lệ. Vui lòng nhập lại.\")\n",
    "                continue\n",
    "\n",
    "            if board[row][col] != 99:\n",
    "                print(\"Ô đã được chọn. Vui lòng nhập lại.\")\n",
    "                continue\n",
    "\n",
    "            board[row][col] = current_player\n",
    "\n",
    "            if check_winner(board, current_player):\n",
    "                print_board(board)\n",
    "                print(f\"{current_player} thắng!\")\n",
    "                break\n",
    "\n",
    "            if is_board_full(board):\n",
    "                print_board(board)\n",
    "                print(\"Hòa!\")\n",
    "                break\n",
    "\n",
    "            current_player = 'O' if current_player == 'X' else 'X'\n",
    "\n",
    "        except ValueError:\n",
    "            print(\"Đầu vào không hợp lệ. Vui lòng nhập lại.\")\n",
    "\n",
    "if __name__ == \"__main__\":\n",
    "    main()"
   ]
  },
  {
   "cell_type": "code",
   "execution_count": null,
   "metadata": {},
   "outputs": [
    {
     "data": {
      "text/plain": [
       "array([4, 5, 6])"
      ]
     },
     "execution_count": 53,
     "metadata": {},
     "output_type": "execute_result"
    }
   ],
   "source": [
    "x = [\n",
    "    [1, 2, 3],\n",
    "    [4, 5, 6],\n",
    "    [7, 8, 9]\n",
    "]\n",
    "x = np.array(x)\n",
    "\n",
    "# Lấy 4 5 6 \n",
    "x[1]"
   ]
  },
  {
   "cell_type": "code",
   "execution_count": null,
   "metadata": {},
   "outputs": [
    {
     "data": {
      "text/plain": [
       "(np.int64(2), np.int64(5))"
      ]
     },
     "execution_count": 56,
     "metadata": {},
     "output_type": "execute_result"
    }
   ],
   "source": [
    "# Lấy 2, 5\n",
    "x[0][1], x[1][1]"
   ]
  },
  {
   "cell_type": "code",
   "execution_count": null,
   "metadata": {},
   "outputs": [
    {
     "data": {
      "text/plain": [
       "(np.int64(3), np.int64(4))"
      ]
     },
     "execution_count": 57,
     "metadata": {},
     "output_type": "execute_result"
    }
   ],
   "source": [
    "# Lấy 3, 4\n",
    "x[0, 2], x[1, 0]"
   ]
  },
  {
   "cell_type": "code",
   "execution_count": 59,
   "metadata": {},
   "outputs": [
    {
     "data": {
      "text/plain": [
       "(np.int64(9), np.int64(6), np.int64(3))"
      ]
     },
     "execution_count": 59,
     "metadata": {},
     "output_type": "execute_result"
    }
   ],
   "source": [
    "# Lấy 9, 6, 3\n",
    "x[2][2], x[1][2], x[0, 2]"
   ]
  },
  {
   "cell_type": "code",
   "execution_count": 61,
   "metadata": {},
   "outputs": [
    {
     "name": "stdout",
     "output_type": "stream",
     "text": [
      "[2, 4, 6, 8, 10]\n"
     ]
    }
   ],
   "source": [
    "x = [1, 2, 3, 4, 5, 6, 7, 8, 9, 10]\n",
    "\n",
    "# Lấy ra các mảng số chẵn\n",
    "\n",
    "mang_chan = [num for num in x if num % 2 == 0]\n",
    "\n",
    "print(mang_chan)"
   ]
  },
  {
   "cell_type": "code",
   "execution_count": 67,
   "metadata": {},
   "outputs": [],
   "source": [
    "x = np.ones((3, 3))"
   ]
  },
  {
   "cell_type": "code",
   "execution_count": 68,
   "metadata": {},
   "outputs": [
    {
     "data": {
      "text/plain": [
       "array([[1., 1., 1.],\n",
       "       [1., 1., 1.],\n",
       "       [1., 1., 1.]])"
      ]
     },
     "execution_count": 68,
     "metadata": {},
     "output_type": "execute_result"
    }
   ],
   "source": [
    "np.ones((3, 3))"
   ]
  },
  {
   "cell_type": "code",
   "execution_count": 70,
   "metadata": {},
   "outputs": [],
   "source": [
    "x = np.arange(3)"
   ]
  },
  {
   "cell_type": "code",
   "execution_count": 71,
   "metadata": {},
   "outputs": [
    {
     "data": {
      "text/plain": [
       "array([0, 1, 2])"
      ]
     },
     "execution_count": 71,
     "metadata": {},
     "output_type": "execute_result"
    }
   ],
   "source": [
    "np.arange(3)"
   ]
  },
  {
   "cell_type": "code",
   "execution_count": 64,
   "metadata": {},
   "outputs": [
    {
     "data": {
      "text/plain": [
       "array([[1., 2., 3.],\n",
       "       [1., 2., 3.],\n",
       "       [1., 2., 3.]])"
      ]
     },
     "execution_count": 64,
     "metadata": {},
     "output_type": "execute_result"
    }
   ],
   "source": [
    "np.ones((3, 3)) + np.arange(3)"
   ]
  },
  {
   "cell_type": "code",
   "execution_count": 73,
   "metadata": {},
   "outputs": [
    {
     "data": {
      "text/plain": [
       "array([0, 2, 4])"
      ]
     },
     "execution_count": 73,
     "metadata": {},
     "output_type": "execute_result"
    }
   ],
   "source": [
    "x + y"
   ]
  },
  {
   "cell_type": "code",
   "execution_count": 74,
   "metadata": {},
   "outputs": [],
   "source": [
    "x = x.reshape((3, 1))"
   ]
  },
  {
   "cell_type": "code",
   "execution_count": null,
   "metadata": {},
   "outputs": [],
   "source": [
    "# Tạo một mảng numpy có kích thước 150x5. Hãy tưởng tượng mảng này chứa 150 mẫu về chiều cao, cân nặng, tuổi, lương, GPA của sinh viên VLU\n",
    "\n",
    "# Chia mảng bống cọt đầu tiên thành một biến có tên là X và cột cuối cùng thành Y\n",
    "\n",
    "# Chia X thành X_train và X_test chứa 70% dữ liệu và chia y thành y_train và y_test, trong đó y_train chứa 70% dữ liệu\n",
    "\n",
    "# Tạo 10 tập dữ liệu không chồng chéo của x_traintrain"
   ]
  },
  {
   "cell_type": "code",
   "execution_count": null,
   "metadata": {},
   "outputs": [
    {
     "name": "stdout",
     "output_type": "stream",
     "text": [
      "Kích thước của X_train: (105, 4)\n",
      "Kích thước của X_test: (45, 4)\n",
      "Kích thước của y_train: (105,)\n",
      "Kích thước của y_test: (45,)\n",
      "Kích thước của X_train_split 1: (10, 4)\n",
      "Kích thước của X_train_split 2: (10, 4)\n",
      "Kích thước của X_train_split 3: (10, 4)\n",
      "Kích thước của X_train_split 4: (10, 4)\n",
      "Kích thước của X_train_split 5: (10, 4)\n",
      "Kích thước của X_train_split 6: (10, 4)\n",
      "Kích thước của X_train_split 7: (10, 4)\n",
      "Kích thước của X_train_split 8: (10, 4)\n",
      "Kích thước của X_train_split 9: (10, 4)\n",
      "Kích thước của X_train_split 10: (10, 4)\n"
     ]
    }
   ],
   "source": [
    "import numpy as np\n",
    "from sklearn.model_selection import train_test_split\n",
    "\n",
    "data = np.random.rand(150, 5) \n",
    "\n",
    "X = data[:, :-1] \n",
    "Y = data[:, -1]   \n",
    "\n",
    "X_train, X_test, y_train, y_test = train_test_split(X, Y, test_size=0.3, random_state=42)\n",
    "\n",
    "num_splits = 10\n",
    "split_size = len(X_train) // num_splits\n",
    "X_train_splits = [X_train[i*split_size:(i+1)*split_size] for i in range(num_splits)]\n",
    "\n",
    "print(\"Kích thước của X_train:\", X_train.shape)\n",
    "print(\"Kích thước của X_test:\", X_test.shape)\n",
    "print(\"Kích thước của y_train:\", y_train.shape)\n",
    "print(\"Kích thước của y_test:\", y_test.shape)\n",
    "\n",
    "for i, split in enumerate(X_train_splits):\n",
    "    print(f\"Kích thước của X_train_split {i+1}:\", split.shape)"
   ]
  },
  {
   "cell_type": "code",
   "execution_count": 77,
   "metadata": {},
   "outputs": [
    {
     "data": {
      "text/plain": [
       "(150, 5)"
      ]
     },
     "execution_count": 77,
     "metadata": {},
     "output_type": "execute_result"
    }
   ],
   "source": [
    "data = np.random.uniform(0, 10,(150, 5))\n",
    "data.shape"
   ]
  },
  {
   "cell_type": "code",
   "execution_count": 78,
   "metadata": {},
   "outputs": [
    {
     "data": {
      "text/plain": [
       "((150, 4), (150,))"
      ]
     },
     "execution_count": 78,
     "metadata": {},
     "output_type": "execute_result"
    }
   ],
   "source": [
    "x = data[:, :-1]\n",
    "y = data[:, -1]\n",
    "\n",
    "x.shape, y.shape"
   ]
  },
  {
   "cell_type": "code",
   "execution_count": 79,
   "metadata": {},
   "outputs": [
    {
     "data": {
      "text/plain": [
       "150"
      ]
     },
     "execution_count": 79,
     "metadata": {},
     "output_type": "execute_result"
    }
   ],
   "source": [
    "dataset_size = x.shape[0]\n",
    "dataset_size"
   ]
  },
  {
   "cell_type": "code",
   "execution_count": 80,
   "metadata": {},
   "outputs": [
    {
     "data": {
      "text/plain": [
       "105"
      ]
     },
     "execution_count": 80,
     "metadata": {},
     "output_type": "execute_result"
    }
   ],
   "source": [
    "train_size = int(0.7 * dataset_size)\n",
    "train_size"
   ]
  },
  {
   "cell_type": "code",
   "execution_count": 82,
   "metadata": {},
   "outputs": [
    {
     "data": {
      "text/plain": [
       "((105, 4), (45, 4))"
      ]
     },
     "execution_count": 82,
     "metadata": {},
     "output_type": "execute_result"
    }
   ],
   "source": [
    "x_train = x[:train_size]\n",
    "x_test = x[train_size:]\n",
    "\n",
    "x_train.shape, x_test.shape"
   ]
  },
  {
   "cell_type": "code",
   "execution_count": 83,
   "metadata": {},
   "outputs": [
    {
     "data": {
      "text/plain": [
       "10"
      ]
     },
     "execution_count": 83,
     "metadata": {},
     "output_type": "execute_result"
    }
   ],
   "source": [
    "split = x_train.shape[0]//10\n",
    "split"
   ]
  },
  {
   "cell_type": "code",
   "execution_count": 84,
   "metadata": {},
   "outputs": [
    {
     "name": "stdout",
     "output_type": "stream",
     "text": [
      "(10, 4)\n",
      "(10, 4)\n",
      "(10, 4)\n",
      "(10, 4)\n",
      "(10, 4)\n",
      "(10, 4)\n",
      "(10, 4)\n",
      "(10, 4)\n",
      "(10, 4)\n",
      "(10, 4)\n",
      "(5, 4)\n"
     ]
    }
   ],
   "source": [
    "for counter in range(0, x_train.shape[0], split):\n",
    "    print(x_train[counter:counter + split].shape)"
   ]
  }
 ],
 "metadata": {
  "kernelspec": {
   "display_name": "Python 3",
   "language": "python",
   "name": "python3"
  },
  "language_info": {
   "codemirror_mode": {
    "name": "ipython",
    "version": 3
   },
   "file_extension": ".py",
   "mimetype": "text/x-python",
   "name": "python",
   "nbconvert_exporter": "python",
   "pygments_lexer": "ipython3",
   "version": "3.13.2"
  }
 },
 "nbformat": 4,
 "nbformat_minor": 2
}

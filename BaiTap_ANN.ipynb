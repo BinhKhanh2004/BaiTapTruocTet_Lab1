{
 "cells": [
  {
   "cell_type": "markdown",
   "metadata": {},
   "source": [
    "## Code từ file gốc:"
   ]
  },
  {
   "cell_type": "code",
   "execution_count": 1,
   "metadata": {},
   "outputs": [],
   "source": [
    "# Cài đặt thư viện\n",
    "import numpy as np\n",
    "import torch\n",
    "import torch.nn as nn\n",
    "import torch.optim as optim\n",
    "from sklearn.model_selection import train_test_split\n",
    "import matplotlib.pyplot as plt\n",
    "\n",
    "# Đặt seed để kết quả ổn định hơn (tùy chọn)\n",
    "torch.manual_seed(42)\n",
    "np.random.seed(42)"
   ]
  },
  {
   "cell_type": "code",
   "execution_count": 2,
   "metadata": {},
   "outputs": [],
   "source": [
    "# Tạo điểm cho lớp 0 (vòng tròn)\n",
    "def generate_class_0(n_samples):\n",
    "    u = np.random.rand(n_samples)\n",
    "    theta = 2 * np.pi * np.random.rand(n_samples)\n",
    "    r = np.sqrt(u)  # Bán kính nhỏ\n",
    "    x = r * np.cos(theta)\n",
    "    y = r * np.sin(theta)\n",
    "    return np.column_stack((x, y))\n",
    "\n",
    "# Tạo điểm cho lớp 1 (vành đai)\n",
    "def generate_class_1(n_samples):\n",
    "    u = np.random.rand(n_samples)\n",
    "    theta = 2 * np.pi * np.random.rand(n_samples)\n",
    "    r = np.sqrt(3 * u + 1)  # Bán kính lớn hơn\n",
    "    x = r * np.cos(theta)\n",
    "    y = r * np.sin(theta)\n",
    "    return np.column_stack((x, y))\n",
    "\n",
    "# Tạo dữ liệu\n",
    "X_class0 = generate_class_0(100)\n",
    "X_class1 = generate_class_1(200)\n",
    "y_class0 = np.zeros(100)  # Nhãn 0\n",
    "y_class1 = np.ones(200)  # Nhãn 1\n",
    "\n",
    "# Kết hợp dữ liệu\n",
    "X = np.vstack((X_class0, X_class1))\n",
    "y = np.hstack((y_class0, y_class1))\n",
    "\n",
    "# Chia dữ liệu với 20% là test size\n",
    "from sklearn.model_selection import train_test_split\n",
    "X_train, X_test, y_train, y_test = train_test_split(X, y, test_size=0.2, random_state=42)\n"
   ]
  },
  {
   "cell_type": "code",
   "execution_count": 3,
   "metadata": {},
   "outputs": [],
   "source": [
    "# Chia dữ liệu với 20% là test size\n",
    "X_train, X_test, y_train, y_test = train_test_split(X, y, test_size=0.2, random_state=42)\n",
    "\n",
    "# Chuyển sang tensor PyTorch\n",
    "X_train = torch.tensor(X_train, dtype=torch.float32)\n",
    "y_train = torch.tensor(y_train, dtype=torch.float32).unsqueeze(1)\n",
    "X_test = torch.tensor(X_test, dtype=torch.float32)\n",
    "y_test = torch.tensor(y_test, dtype=torch.float32).unsqueeze(1)\n"
   ]
  },
  {
   "cell_type": "code",
   "execution_count": 4,
   "metadata": {},
   "outputs": [
    {
     "name": "stdout",
     "output_type": "stream",
     "text": [
      "Epoch [20/100], loss: 0.6049\n",
      "Epoch [40/100], loss: 0.5641\n",
      "Epoch [60/100], loss: 0.4728\n",
      "Epoch [80/100], loss: 0.3899\n",
      "Epoch [100/100], loss: 0.3316\n"
     ]
    }
   ],
   "source": [
    "# Xây dựng mô hình ANN cơ bản \n",
    "class ANN(nn.Module):\n",
    "    def __init__(self):\n",
    "        super(ANN, self).__init__()\n",
    "        self.fc1 = nn.Linear(2, 4)  # Đầu vào 2, ẩn 4\n",
    "        self.relu = nn.ReLU()       # Công tắc ReLU\n",
    "        self.fc2 = nn.Linear(4, 1)  # Ẩn 4, đầu ra 1\n",
    "        self.sigmoid = nn.Sigmoid() # Xác suất 0-1\n",
    "\n",
    "    def forward(self, x):\n",
    "        x = self.fc1(x)\n",
    "        x = self.relu(x)\n",
    "        x = self.fc2(x)\n",
    "        x = self.sigmoid(x)\n",
    "        return x\n",
    "\n",
    "# Khởi tạo mô hình\n",
    "model = ANN()\n",
    "\n",
    "# Định nghĩa mất mát và tối ưu hóa\n",
    "criterion = nn.BCELoss()  # Binary Cross-Entropy Loss\n",
    "optimizer = torch.optim.Adam(model.parameters(), lr=0.01)\n",
    "\n",
    "# Huấn luyện\n",
    "epochs = 100\n",
    "for epoch in range(epochs):\n",
    "    model.train()\n",
    "    optimizer.zero_grad()        # Xóa gradient cũ\n",
    "    outputs = model(X_train)     # Dự đoán\n",
    "    loss = criterion(outputs, y_train)  # Tính sai lầm\n",
    "    loss.backward()              # Tìm cách sửa\n",
    "    optimizer.step()             # Sửa trọng số\n",
    "\n",
    "    if (epoch + 1) % 20 == 0:\n",
    "        print(f\"Epoch [{epoch+1}/{epochs}], loss: {loss.item():.4f}\")\n"
   ]
  },
  {
   "cell_type": "markdown",
   "metadata": {},
   "source": [
    "## PHẦN BÀI TẬP"
   ]
  },
  {
   "cell_type": "markdown",
   "metadata": {},
   "source": [
    "## Phần 1:"
   ]
  },
  {
   "cell_type": "code",
   "execution_count": 5,
   "metadata": {},
   "outputs": [
    {
     "name": "stdout",
     "output_type": "stream",
     "text": [
      "Mất mát cuối cùng: 0.5830146670341492\n",
      "Độ chính xác: 0.6333333253860474\n"
     ]
    }
   ],
   "source": [
    "class ANN(nn.Module):\n",
    "    def __init__(self):\n",
    "        super(ANN, self).__init__()\n",
    "        self.fc1 = nn.Linear(2, 4)  \n",
    "        self.fc2 = nn.Linear(4, 1)  \n",
    "        self.relu = nn.ReLU()\n",
    "        self.sigmoid = nn.Sigmoid()\n",
    "\n",
    "    def forward(self, x):\n",
    "        x = self.relu(self.fc1(x))\n",
    "        x = self.sigmoid(self.fc2(x))\n",
    "        return x\n",
    "\n",
    "model = ANN()\n",
    "criterion = nn.BCELoss()\n",
    "optimizer = optim.Adam(model.parameters(), lr=0.01)\n",
    "\n",
    "for epoch in range(100):\n",
    "    model.train()\n",
    "    optimizer.zero_grad()\n",
    "    outputs = model(X_train)\n",
    "    loss = criterion(outputs, y_train)\n",
    "    loss.backward()\n",
    "    optimizer.step()\n",
    "\n",
    "model.eval()\n",
    "with torch.no_grad():\n",
    "    pred = model(X_test)\n",
    "    loss = criterion(pred, y_test)\n",
    "    pred = (pred > 0.5).float()\n",
    "    accuracy = (pred == y_test).float().mean()\n",
    "    print(f'Mất mát cuối cùng: {loss.item()}')\n",
    "    print(f'Độ chính xác: {accuracy.item()}')"
   ]
  },
  {
   "cell_type": "code",
   "execution_count": 6,
   "metadata": {},
   "outputs": [
    {
     "name": "stdout",
     "output_type": "stream",
     "text": [
      "Mất mát cuối cùng: 0.3404243588447571\n",
      "Độ chính xác: 0.8666666746139526\n"
     ]
    }
   ],
   "source": [
    "class ANN(nn.Module):\n",
    "    def __init__(self):\n",
    "        super(ANN, self).__init__()\n",
    "        self.fc1 = nn.Linear(2, 8)  \n",
    "        self.fc2 = nn.Linear(8, 1)  \n",
    "        self.relu = nn.ReLU()\n",
    "        self.sigmoid = nn.Sigmoid()\n",
    "\n",
    "    def forward(self, x):\n",
    "        x = self.relu(self.fc1(x))\n",
    "        x = self.sigmoid(self.fc2(x))\n",
    "        return x\n",
    "    \n",
    "model = ANN()\n",
    "criterion = nn.BCELoss()\n",
    "optimizer = optim.Adam(model.parameters(), lr=0.01)\n",
    "\n",
    "for epoch in range(100):\n",
    "    model.train()\n",
    "    optimizer.zero_grad()\n",
    "    outputs = model(X_train)\n",
    "    loss = criterion(outputs, y_train)\n",
    "    loss.backward()\n",
    "    optimizer.step()\n",
    "    \n",
    "model.eval()\n",
    "with torch.no_grad():\n",
    "    pred = model(X_test)\n",
    "    loss = criterion(pred, y_test)\n",
    "    pred = (pred > 0.5).float()\n",
    "    accuracy = (pred == y_test).float().mean()\n",
    "    print(f'Mất mát cuối cùng: {loss.item()}')\n",
    "    print(f'Độ chính xác: {accuracy.item()}')"
   ]
  },
  {
   "cell_type": "code",
   "execution_count": 7,
   "metadata": {},
   "outputs": [
    {
     "name": "stdout",
     "output_type": "stream",
     "text": [
      "Mất mát cuối cùng: 0.2577131688594818\n",
      "Độ chính xác: 0.9166666865348816\n"
     ]
    }
   ],
   "source": [
    "class ANN(nn.Module):\n",
    "    def __init__(self):\n",
    "        super(ANN, self).__init__()\n",
    "        self.fc1 = nn.Linear(2, 8)  \n",
    "        self.fc2 = nn.Linear(8, 6)  \n",
    "        self.fc3 = nn.Linear(6, 1)  \n",
    "        self.relu = nn.ReLU()\n",
    "        self.sigmoid = nn.Sigmoid()\n",
    "\n",
    "    def forward(self, x):\n",
    "        x = self.relu(self.fc1(x))\n",
    "        x = self.relu(self.fc2(x))\n",
    "        x = self.sigmoid(self.fc3(x))\n",
    "        return x\n",
    "    \n",
    "model = ANN()\n",
    "criterion = nn.BCELoss()\n",
    "optimizer = optim.Adam(model.parameters(), lr=0.01)\n",
    "\n",
    "for epoch in range(100):\n",
    "    model.train()\n",
    "    optimizer.zero_grad()\n",
    "    outputs = model(X_train)\n",
    "    loss = criterion(outputs, y_train)\n",
    "    loss.backward()\n",
    "    optimizer.step()\n",
    "    \n",
    "model.eval()\n",
    "with torch.no_grad():\n",
    "    pred = model(X_test)\n",
    "    loss = criterion(pred, y_test)\n",
    "    pred = (pred > 0.5).float()\n",
    "    accuracy = (pred == y_test).float().mean()\n",
    "    print(f'Mất mát cuối cùng: {loss.item()}')\n",
    "    print(f'Độ chính xác: {accuracy.item()}')"
   ]
  },
  {
   "cell_type": "markdown",
   "metadata": {},
   "source": [
    "## Phần 1\n",
    "# Mất mát\n",
    "Sau khi so sánh 3 kết quả mất mát cuối cùng => Mất mát giảm dần khi độ phức tạp của mô hình tăng lên (tăng số nút trong lớp ẩn, bổ sung thêm lớp ẩn) => Các mô hình phức tạp hơn có khả năng học và biểu diễn dữ liệu tốt hơn\n",
    "# Độ chính xác\n",
    "Độ chính xác có cải thiện. Vì thông qua 3 kết quả của mỗi mô hình, mô hình có mạng ANN càng phức tạp thì độ chính xác càng được nâng cao. Ví dụ:\n",
    "Khi tăng số nút trong lớp ẩn (từ 4 lên 8), mô hình có thêm \"không gian\" để biểu diễn các đặc trưng của dữ liệu, từ đó nâng cao độ chính xác."
   ]
  },
  {
   "cell_type": "code",
   "execution_count": 8,
   "metadata": {},
   "outputs": [
    {
     "name": "stdout",
     "output_type": "stream",
     "text": [
      "Mất mát cuối cùng (BCEWithLogitsLoss): 0.7215719223022461\n",
      "Độ chính xác (BCEWithLogitsLoss): 0.4000000059604645\n"
     ]
    }
   ],
   "source": [
    "X_train = torch.randn(100, 2)  \n",
    "y_train = torch.randint(0, 2, (100, 1)).float()  \n",
    "X_test = torch.randn(20, 2)  \n",
    "y_test = torch.randint(0, 2, (20, 1)).float()\n",
    "\n",
    "class ANN_BCEWithLogits(nn.Module):\n",
    "    def __init__(self):\n",
    "        super(ANN_BCEWithLogits, self).__init__()\n",
    "        self.fc1 = nn.Linear(2, 4)  \n",
    "        self.fc2 = nn.Linear(4, 1)  \n",
    "        self.relu = nn.ReLU()\n",
    "\n",
    "    def forward(self, x):\n",
    "        x = self.relu(self.fc1(x))\n",
    "        x = self.fc2(x)  \n",
    "        return x\n",
    "\n",
    "model_bce_logits = ANN_BCEWithLogits()\n",
    "criterion_bce_logits = nn.BCEWithLogitsLoss()\n",
    "optimizer = optim.Adam(model_bce_logits.parameters(), lr=0.01)\n",
    "\n",
    "for epoch in range(100):\n",
    "    model_bce_logits.train()\n",
    "    optimizer.zero_grad()\n",
    "    outputs = model_bce_logits(X_train)\n",
    "    loss = criterion_bce_logits(outputs, y_train)\n",
    "    loss.backward()\n",
    "    optimizer.step()\n",
    "\n",
    "model_bce_logits.eval()\n",
    "with torch.no_grad():\n",
    "    pred = model_bce_logits(X_test)\n",
    "    loss_bce_logits = criterion_bce_logits(pred, y_test)\n",
    "    pred = (torch.sigmoid(pred) > 0.5).float()  \n",
    "    accuracy_bce_logits = (pred == y_test).float().mean()\n",
    "    print(f'Mất mát cuối cùng (BCEWithLogitsLoss): {loss_bce_logits.item()}')\n",
    "    print(f'Độ chính xác (BCEWithLogitsLoss): {accuracy_bce_logits.item()}')"
   ]
  },
  {
   "cell_type": "code",
   "execution_count": 9,
   "metadata": {},
   "outputs": [
    {
     "name": "stdout",
     "output_type": "stream",
     "text": [
      "Mất mát cuối cùng (SGD): 0.7128870487213135\n",
      "Độ chính xác (SGD): 0.5\n"
     ]
    }
   ],
   "source": [
    "class ANN_SGD(nn.Module):\n",
    "    def __init__(self):\n",
    "        super(ANN_SGD, self).__init__()\n",
    "        self.fc1 = nn.Linear(2, 4)  \n",
    "        self.fc2 = nn.Linear(4, 1)  \n",
    "        self.relu = nn.ReLU()\n",
    "        self.sigmoid = nn.Sigmoid()\n",
    "\n",
    "    def forward(self, x):\n",
    "        x = self.relu(self.fc1(x))\n",
    "        x = self.sigmoid(self.fc2(x))\n",
    "        return x\n",
    "\n",
    "model_sgd = ANN_SGD()\n",
    "criterion = nn.BCELoss()\n",
    "optimizer_sgd = optim.SGD(model_sgd.parameters(), lr=0.01)\n",
    "\n",
    "for epoch in range(100):\n",
    "    model_sgd.train()\n",
    "    optimizer_sgd.zero_grad()\n",
    "    outputs = model_sgd(X_train)\n",
    "    loss = criterion(outputs, y_train)\n",
    "    loss.backward()\n",
    "    optimizer_sgd.step()\n",
    "\n",
    "model_sgd.eval()\n",
    "with torch.no_grad():\n",
    "    pred = model_sgd(X_test)\n",
    "    loss_sgd = criterion(pred, y_test)\n",
    "    pred = (pred > 0.5).float()\n",
    "    accuracy_sgd = (pred == y_test).float().mean()\n",
    "    print(f'Mất mát cuối cùng (SGD): {loss_sgd.item()}')\n",
    "    print(f'Độ chính xác (SGD): {accuracy_sgd.item()}')"
   ]
  },
  {
   "cell_type": "markdown",
   "metadata": {},
   "source": [
    "## Phần 2:\n",
    "**Câu hỏi**:  \n",
    "   - So sánh kết quả:  \n",
    "     - `BCEWithLogitsLoss` có khác gì so với `BCELoss` về mất mát và độ chính xác? Tại sao?  \n",
    "        - BCEWithLogitsLoss có mất mát cao hơn (0.721) so với BCELoss (0.712) => BCELoss giúp mô hình đạt được giá trị mất mát thấp hơn trong cùng điều kiện huấn luyện\n",
    "         - CEWithLogitsLoss đạt độ chính xác 40%, thấp hơn so với 50% của BCELoss => BCELoss vượt trội hơn về khả năng phân loại chính xác\n",
    "            - Lí do:\n",
    "            - Dữ liệu được tạo ngẫu nhiên, không có mối quan hệ rõ ràng giữa đặc trưng và nhãn => Khiến mô hình khó học được các pattern có ích => Dẫn đến hiệu suất thấp\n",
    "     - `SGD` so với `Adam`: Mất mát giảm nhanh hơn hay chậm hơn? Độ chính xác thay đổi ra sao?  \n",
    "         - SGD có mất mát cuối cùng cao hơn (0.721) so với Adam (0.712)\n",
    "         - SGD đạt độ chính xác 40%, thấp hơn so với 50% của Adam."
   ]
  },
  {
   "cell_type": "code",
   "execution_count": 10,
   "metadata": {},
   "outputs": [
    {
     "data": {
      "image/png": "[encoded data removed]",
      "text/plain": [
       "<Figure size 1000x600 with 1 Axes>"
      ]
     },
     "metadata": {},
     "output_type": "display_data"
    }
   ],
   "source": [
    "X_train = torch.randn(100, 2)  \n",
    "y_train = torch.randint(0, 2, (100, 1)).float()  \n",
    "X_test = torch.randn(20, 2)  \n",
    "y_test = torch.randint(0, 2, (20, 1)).float()\n",
    "\n",
    "class ANN(nn.Module):\n",
    "    def __init__(self, hidden_size):\n",
    "        super(ANN, self).__init__()\n",
    "        self.fc1 = nn.Linear(2, hidden_size)  \n",
    "        self.fc2 = nn.Linear(hidden_size, 1)  \n",
    "        self.relu = nn.ReLU()\n",
    "        self.sigmoid = nn.Sigmoid()\n",
    "\n",
    "    def forward(self, x):\n",
    "        x = self.relu(self.fc1(x))\n",
    "        x = self.sigmoid(self.fc2(x))\n",
    "        return x\n",
    "\n",
    "def train_model(model, criterion, optimizer, X_train, y_train, epochs=100):\n",
    "    loss_history = []\n",
    "    for epoch in range(epochs):\n",
    "        model.train()\n",
    "        optimizer.zero_grad()\n",
    "        outputs = model(X_train)\n",
    "        loss = criterion(outputs, y_train)\n",
    "        loss.backward()\n",
    "        optimizer.step()\n",
    "        loss_history.append(loss.item())\n",
    "    return loss_history\n",
    "\n",
    "model_4_adam = ANN(hidden_size=4)\n",
    "criterion = nn.BCELoss()\n",
    "optimizer_adam = optim.Adam(model_4_adam.parameters(), lr=0.01)\n",
    "loss_history_4_adam = train_model(model_4_adam, criterion, optimizer_adam, X_train, y_train)\n",
    "\n",
    "model_8_adam = ANN(hidden_size=8)\n",
    "optimizer_adam_8 = optim.Adam(model_8_adam.parameters(), lr=0.01)\n",
    "loss_history_8_adam = train_model(model_8_adam, criterion, optimizer_adam_8, X_train, y_train)\n",
    "\n",
    "model_4_sgd = ANN(hidden_size=4)\n",
    "optimizer_sgd = optim.SGD(model_4_sgd.parameters(), lr=0.01)\n",
    "loss_history_4_sgd = train_model(model_4_sgd, criterion, optimizer_sgd, X_train, y_train)\n",
    "\n",
    "plt.figure(figsize=(10, 6))\n",
    "plt.plot(loss_history_4_adam, label='2-4-1, Adam, BCELoss')\n",
    "plt.plot(loss_history_8_adam, label='2-8-1, Adam, BCELoss')\n",
    "plt.plot(loss_history_4_sgd, label='2-4-1, SGD, BCELoss')\n",
    "plt.xlabel('Epoch')\n",
    "plt.ylabel('Loss')\n",
    "plt.title('Đồ thị mất mát theo 3 trường hợp ')\n",
    "plt.legend()\n",
    "plt.show()"
   ]
  },
  {
   "cell_type": "markdown",
   "metadata": {},
   "source": [
    "## Phần 3\n",
    "**Câu hỏi**:  \n",
    "   - Quan sát đồ thị:  \n",
    "     - Mất mát giảm nhanh nhất ở trường hợp nào? Chậm nhất ở đâu?  \n",
    "            - Trường hợp có mất mát giảm nhanh nhất là đường màu cam (2-8-1, Adam, BCELoss)\n",
    "            - Trường hợp có mất mát giảm chậm nhất là đường màu xanh lá (2-4-1, SGD, BCELoss)\n",
    "     - Có trường hợp nào mất mát không giảm đều không (dao động)? Giải thích tại sao.  \n",
    "              - Có dao động nhỏ ở đường màu xanh dương (2-4-1, Adam, BCELoss) chủ yếu nằm ở các epoch đầu (0 - 20)\n",
    "              .Giải thích: Dao động ở đường màu xanh dương là do sự kết hợp giữa cơ chế thích ứng của Adam và số lượng nơ-ron ẩn hạn chế, nhưng cũng không quá lớn và mất mát vẫn giảm ổn định về sau\n",
    "\n"
   ]
  },
  {
   "cell_type": "markdown",
   "metadata": {},
   "source": []
  }
 ],
 "metadata": {
  "kernelspec": {
   "display_name": "Python 3",
   "language": "python",
   "name": "python3"
  },
  "language_info": {
   "codemirror_mode": {
    "name": "ipython",
    "version": 3
   },
   "file_extension": ".py",
   "mimetype": "text/x-python",
   "name": "python",
   "nbconvert_exporter": "python",
   "pygments_lexer": "ipython3",
   "version": "3.13.2"
  }
 },
 "nbformat": 4,
 "nbformat_minor": 2
}

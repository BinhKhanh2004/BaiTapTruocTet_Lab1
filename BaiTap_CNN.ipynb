{
  "cells": [
    {
      "cell_type": "code",
      "execution_count": 1,
      "metadata": {
        "colab": {
          "base_uri": "https://localhost:8080/"
        },
        "id": "UvabF6EIbrmT",
        "outputId": "f1e39ace-c402-4673-b24e-d1f1b0685461"
      },
      "outputs": [
        {
          "name": "stderr",
          "output_type": "stream",
          "text": [
            "100%|██████████| 9.91M/9.91M [00:43<00:00, 227kB/s] \n",
            "100%|██████████| 28.9k/28.9k [00:00<00:00, 56.9kB/s]\n",
            "100%|██████████| 1.65M/1.65M [00:20<00:00, 78.6kB/s]\n",
            "100%|██████████| 4.54k/4.54k [00:00<00:00, 5.26MB/s]\n"
          ]
        }
      ],
      "source": [
        "import torch\n",
        "import torch.nn as nn\n",
        "import torch.optim as optim\n",
        "import torchvision\n",
        "import torchvision.transforms as transforms\n",
        "import matplotlib.pyplot as plt\n",
        "import numpy as np\n",
        "\n",
        "# 1. Tải dữ liệu MNIST\n",
        "transform = transforms.ToTensor()  # Chuyển ảnh thành tensor\n",
        "train_dataset = torchvision.datasets.MNIST(root='./data', train=True, download=True, transform=transform)\n",
        "test_dataset = torchvision.datasets.MNIST(root='./data', train=False, download=True, transform=transform)\n",
        "\n",
        "train_loader = torch.utils.data.DataLoader(train_dataset, batch_size=64, shuffle=True)\n",
        "test_loader = torch.utils.data.DataLoader(test_dataset, batch_size=64, shuffle=False)"
      ]
    },
    {
      "cell_type": "markdown",
      "metadata": {
        "id": "WFe4Ht_GMCZE"
      },
      "source": [
        "XÂY DỰNG MÔ HÌNH CNN CƠ BẢN\n"
      ]
    },
    {
      "cell_type": "code",
      "execution_count": 2,
      "metadata": {
        "id": "qkfSDm1vMJzl"
      },
      "outputs": [],
      "source": [
        "# 2. Định nghĩa mô hình CNN\n",
        "class MNIST_CNN(nn.Module):  # Tạo lớp MNIST_CNN kế thừa từ nn.Module (lớp cơ bản của PyTorch)\n",
        "    def __init__(self):  # Hàm khởi tạo mô hình\n",
        "        super(MNIST_CNN, self).__init__()  # Gọi hàm khởi tạo của lớp cha (nn.Module)\n",
        "        \n",
        "        # Tầng tích chập 1: 1 kênh đầu vào (ảnh đen trắng) -> 16 kênh đầu ra, filter 3x3\n",
        "        self.conv1 = nn.Conv2d(1, 16, kernel_size=3, stride=1, padding=0)  # Tích chập giảm kích thước từ 28x28 -> 26x26\n",
        "        \n",
        "        # Tầng tích chập 2: 16 kênh đầu vào -> 32 kênh đầu ra, filter 3x3\n",
        "        self.conv2 = nn.Conv2d(16, 32, kernel_size=3, stride=1, padding=0)  # Tích chập giảm từ 12x12 -> 10x10 (sau pooling)\n",
        "        self.conv3 = nn.Conv2d(32, 64, kernel_size=3, stride=1, padding=0)\n",
        "        \n",
        "        # Tầng pooling: vùng 2x2, giảm kích thước một nửa\n",
        "        self.pool = nn.MaxPool2d(kernel_size=2, stride=2)  # Ví dụ: 26x26 -> 13x13, 10x10 -> 5x5\n",
        "        \n",
        "        # Tầng fully connected: từ 32 kênh * 5x5 (800) -> 10 lớp (0-9)\n",
        "        self.fc1 = nn.Linear(64 * 1 * 1, 10)  # Duỗi feature map thành vector rồi phân loại\n",
        "\n",
        "    def forward(self, x):  # Hàm forward định nghĩa luồng dữ liệu qua các tầng\n",
        "        x = self.pool(torch.relu(self.conv1(x)))  # Conv1 -> ReLU (loại giá trị âm) -> Pool (giảm kích thước)\n",
        "        x = self.pool(torch.relu(self.conv2(x)))  # Conv2 -> ReLU -> Pool, cuối cùng ra 32x5x5\n",
        "        x = self.pool(torch.relu(self.conv3(x)))\n",
        "        x = x.view(-1, 64 * 1 * 1)  # Duỗi tensor thành vector, -1 tự động tính batch size\n",
        "        x = self.fc1(x)  # Qua tầng fully connected, ra 10 giá trị (logits cho 0-9)\n",
        "        \n",
        "        return x  # Trả về kết quả dự đoán"
      ]
    },
    {
      "cell_type": "markdown",
      "metadata": {
        "id": "TjAm40jgMPzk"
      },
      "source": [
        "Khởi tạo mô hình\n"
      ]
    },
    {
      "cell_type": "code",
      "execution_count": 3,
      "metadata": {
        "id": "TUUPGSdPMSMs"
      },
      "outputs": [],
      "source": [
        "# Khởi tạo mô hình\n",
        "model = MNIST_CNN()  # Tạo một instance của lớp MNIST_CNN\n",
        "criterion = nn.CrossEntropyLoss()  # Định nghĩa hàm mất mát CrossEntropy (dùng cho phân loại nhiều lớp)\n",
        "optimizer = optim.SGD(model.parameters(), lr=0.1, momentum=0.9)  # Dùng SGD với learning rate 0.01 và momentum 0.9 để tối ưu"
      ]
    },
    {
      "cell_type": "markdown",
      "metadata": {
        "id": "NmnFqgdfMV9T"
      },
      "source": [
        "Huấn luyện mô hình"
      ]
    },
    {
      "cell_type": "code",
      "execution_count": 4,
      "metadata": {
        "colab": {
          "base_uri": "https://localhost:8080/"
        },
        "id": "GUukEarZMYlZ",
        "outputId": "835e9594-60be-4572-8a2a-0fb512cb4795"
      },
      "outputs": [
        {
          "name": "stdout",
          "output_type": "stream",
          "text": [
            "Epoch 1, Loss: 0.3039\n",
            "Epoch 2, Loss: 0.1162\n",
            "Epoch 3, Loss: 0.0940\n",
            "Epoch 4, Loss: 0.0832\n",
            "Epoch 5, Loss: 0.0735\n",
            "Epoch 6, Loss: 0.0730\n",
            "Epoch 7, Loss: 0.0704\n",
            "Epoch 8, Loss: 0.0739\n",
            "Epoch 9, Loss: 0.0683\n",
            "Epoch 10, Loss: 0.0729\n"
          ]
        }
      ],
      "source": [
        "# 3. Huấn luyện mô hình\n",
        "device = torch.device(\"cuda\" if torch.cuda.is_available() else \"cpu\")  # Chọn GPU nếu có, không thì dùng CPU\n",
        "model.to(device)  # Chuyển mô hình sang thiết bị đã chọn (GPU/CPU)\n",
        "\n",
        "loss_values = []  # Tạo list để lưu giá trị mất mát trung bình của mỗi epoch\n",
        "for epoch in range(10): # Lặp qua 5 epoch (mỗi epoch là một lần duyệt hết dữ liệu)\n",
        "    running_loss = 0.0  # Biến để cộng dồn mất mát trong epoch\n",
        "    \n",
        "    for images, labels in train_loader:  # Lặp qua từng batch trong tập huấn luyện\n",
        "        images, labels = images.to(device), labels.to(device)  # Chuyển ảnh và nhãn sang GPU/CPU\n",
        "\n",
        "        optimizer.zero_grad()  # Xóa gradient cũ để tránh tích lũy từ bước trước\n",
        "        outputs = model(images)  # Đưa ảnh qua mô hình, nhận dự đoán (logits)\n",
        "        loss = criterion(outputs, labels)  # Tính mất mát giữa dự đoán và nhãn thật\n",
        "        loss.backward()  # Tính gradient ngược (backpropagation)\n",
        "        optimizer.step()  # Cập nhật trọng số dựa trên gradient\n",
        "\n",
        "        running_loss += loss.item()  # Cộng dồn giá trị mất mát của batch\n",
        "        \n",
        "    epoch_loss = running_loss / len(train_loader)  # Tính mất mát trung bình của epoch\n",
        "    loss_values.append(epoch_loss)  # Lưu mất mát trung bình vào list\n",
        "    print(f\"Epoch {epoch+1}, Loss: {epoch_loss:.4f}\")  # In mất mát trung bình sau mỗi epoch"
      ]
    },
    {
      "cell_type": "code",
      "execution_count": 5,
      "metadata": {
        "colab": {
          "base_uri": "https://localhost:8080/",
          "height": 489
        },
        "id": "vuoVS6qJN3Ir",
        "outputId": "a36adc1f-2684-410b-a662-12a3bc4947bb"
      },
      "outputs": [
        {
          "data": {
            "image/png": "[encoded data removed]",
            "text/plain": [
              "<Figure size 800x500 with 1 Axes>"
            ]
          },
          "metadata": {},
          "output_type": "display_data"
        }
      ],
      "source": [
        "# Vẽ biểu đồ loss\n",
        "plt.figure(figsize=(8, 5))  # Tạo khung hình kích thước 8x5\n",
        "plt.plot(range(1, 11), loss_values, marker='o')  # Vẽ đường mất mát qua 5 epoch, thêm điểm đánh dấu\n",
        "plt.title(\"Biểu đồ mất mát qua các epoch\")  # Tiêu đề biểu đồ\n",
        "plt.xlabel(\"Epoch\")  # Nhãn trục x\n",
        "plt.ylabel(\"Loss\")  # Nhãn trục y\n",
        "plt.grid(True)  # Thêm lưới để dễ nhìn\n",
        "plt.show()  # Hiển thị biểu đồ"
      ]
    },
    {
      "cell_type": "markdown",
      "metadata": {
        "id": "QxIJJzFtN8G2"
      },
      "source": [
        "Đánh giá mô hình"
      ]
    },
    {
      "cell_type": "code",
      "execution_count": 6,
      "metadata": {
        "colab": {
          "base_uri": "https://localhost:8080/"
        },
        "id": "Z5LxDm8fN-Lj",
        "outputId": "21fa31b1-1560-4073-ab80-4a6e26ee1d89"
      },
      "outputs": [
        {
          "name": "stdout",
          "output_type": "stream",
          "text": [
            "Độ chính xác trên tập test: 97.78%\n"
          ]
        }
      ],
      "source": [
        "correct = 0  # Đếm số dự đoán đúng\n",
        "total = 0  # Đếm tổng số mẫu\n",
        "with torch.no_grad():  # Tắt tính gradient vì chỉ đánh giá, không huấn luyện\n",
        "    for images, labels in test_loader:  # Lặp qua từng batch trong tập kiểm tra\n",
        "        images, labels = images.to(device), labels.to(device)  # Chuyển dữ liệu sang GPU/CPU\n",
        "        outputs = model(images)  # Dự đoán trên batch ảnh\n",
        "        _, predicted = torch.max(outputs.data, 1)  # Lấy chỉ số lớp có giá trị lớn nhất (dự đoán)\n",
        "        total += labels.size(0)  # Cộng số mẫu trong batch vào tổng\n",
        "        correct += (predicted == labels).sum().item()  # Cộng số dự đoán đúng\n",
        "print(f\"Độ chính xác trên tập test: {100 * correct / total:.2f}%\")  # Tính và in độ chính xác (%)"
      ]
    },
    {
      "cell_type": "code",
      "execution_count": 7,
      "metadata": {
        "colab": {
          "base_uri": "https://localhost:8080/",
          "height": 280
        },
        "id": "3wx0IAnVODJD",
        "outputId": "5818da9a-c200-4fe0-e54b-24387c412e87"
      },
      "outputs": [
        {
          "data": {
            "image/png": "[encoded data removed]",
            "text/plain": [
              "<Figure size 1500x300 with 5 Axes>"
            ]
          },
          "metadata": {},
          "output_type": "display_data"
        }
      ],
      "source": [
        "# Trực quan kết quả dự đoán\n",
        "def visualize_prediction():  # Hàm để vẽ 5 ảnh và dự đoán\n",
        "    model.eval()  # Chuyển mô hình sang chế độ đánh giá (tắt dropout, batch norm nếu có)\n",
        "    images, labels = next(iter(test_loader))  # Lấy một batch từ tập kiểm tra\n",
        "    images, labels = images.to(device), labels.to(device)  # Chuyển sang GPU/CPU\n",
        "    outputs = model(images)  # Dự đoán trên batch\n",
        "    _, predicted = torch.max(outputs, 1)  # Lấy chỉ số lớp dự đoán\n",
        "\n",
        "    # Vẽ 5 ảnh đầu tiên\n",
        "    fig, axes = plt.subplots(1, 5, figsize=(15, 3))  # Tạo lưới 1x5 để vẽ 5 ảnh\n",
        "    for i in range(5):  # Lặp qua 5 ảnh đầu\n",
        "        axes[i].imshow(images[i].cpu().squeeze(), cmap='gray')  # Vẽ ảnh (chuyển về CPU, bỏ kênh 1)\n",
        "        axes[i].set_title(f\"Dự đoán: {predicted[i].item()}\\nThật: {labels[i].item()}\")  # Ghi nhãn dự đoán và thật\n",
        "        axes[i].axis('off')  # Tắt trục tọa độ\n",
        "    plt.show()  # Hiển thị hình\n",
        "\n",
        "visualize_prediction()  # Gọi hàm để vẽ\n"
      ]
    },
    {
      "cell_type": "code",
      "execution_count": 8,
      "metadata": {
        "colab": {
          "base_uri": "https://localhost:8080/",
          "height": 330
        },
        "id": "gncq0VChOGq5",
        "outputId": "b8f5dfba-0a3a-4ecb-cc6c-e089f354fc06"
      },
      "outputs": [
        {
          "data": {
            "image/png": "[encoded data removed]",
            "text/plain": [
              "<Figure size 2000x400 with 5 Axes>"
            ]
          },
          "metadata": {},
          "output_type": "display_data"
        }
      ],
      "source": [
        "def visualize_feature_map():  # Hàm để vẽ ảnh gốc và feature map từ tầng conv1, conv2\n",
        "    model.eval()  # Chuyển sang chế độ đánh giá\n",
        "    images, _ = next(iter(test_loader))  # Lấy một batch từ tập kiểm tra (bỏ nhãn)\n",
        "    img = images[0].unsqueeze(0).to(device)  # Lấy ảnh đầu tiên, thêm chiều batch (1x1x28x28)\n",
        "\n",
        "    # Tính feature map từ conv1\n",
        "    conv1_output = torch.relu(model.conv1(img))  # Qua conv1 và ReLU, ra tensor 1x16x26x26\n",
        "    # Tính feature map từ conv2\n",
        "    conv2_output = torch.relu(model.conv2(model.pool(torch.relu(model.conv1(img)))))  # Qua conv1, pool, conv2, ReLU\n",
        "\n",
        "    # Vẽ ảnh gốc và feature map\n",
        "    plt.figure(figsize=(20, 4))\n",
        "    plt.subplot(1, 5, 1)\n",
        "    plt.title(\"Ảnh gốc\")\n",
        "    plt.imshow(img.cpu().squeeze(), cmap='gray')\n",
        "    plt.axis('off')\n",
        "\n",
        "    # Vẽ feature map đầu tiên từ conv1\n",
        "    plt.subplot(1, 5, 2)\n",
        "    plt.title(\"Feature Map 1 (Conv1)\")\n",
        "    plt.imshow(conv1_output[0, 0].cpu().detach().numpy(), cmap='gray')\n",
        "    plt.axis('off')\n",
        "\n",
        "    # Vẽ feature map thứ hai từ conv1\n",
        "    plt.subplot(1, 5, 3)\n",
        "    plt.title(\"Feature Map 2 (Conv1)\")\n",
        "    plt.imshow(conv1_output[0, 1].cpu().detach().numpy(), cmap='gray')\n",
        "    plt.axis('off')\n",
        "\n",
        "    # Vẽ feature map đầu tiên từ conv2\n",
        "    plt.subplot(1, 5, 4)\n",
        "    plt.title(\"Feature Map 1 (Conv2)\")\n",
        "    plt.imshow(conv2_output[0, 0].cpu().detach().numpy(), cmap='gray')\n",
        "    plt.axis('off')\n",
        "\n",
        "    # Vẽ feature map thứ hai từ conv2\n",
        "    plt.subplot(1, 5, 5)\n",
        "    plt.title(\"Feature Map 2 (Conv2)\")\n",
        "    plt.imshow(conv2_output[0, 1].cpu().detach().numpy(), cmap='gray')\n",
        "    plt.axis('off')\n",
        "    plt.show()\n",
        "\n",
        "visualize_feature_map()"
      ]
    },
    {
      "cell_type": "markdown",
      "metadata": {
        "id": "CC4IyPz4P1E-"
      },
      "source": [
        " Biểu đồ mất mát (loss) thay đổi khi epoch là 10 có xu hướng giảm đều\n",
        "Số epoch ảnh hưởng đến kết quả vì nó xác định số lần mô hình lặp qua toàn bộ tập dữ liệu huấn luyện để cập nhật trọng số. Nếu số epoch quá ít, mô hình không có đủ cơ hội học đầy đủ các đặc trưng của dữ liệu, dẫn đến hiện tượng underfitting (mất mát cao, độ chính xác thấp). Ngược lại, nếu số epoch quá nhiều, mô hình có thể học quá chi tiết trên dữ liệu huấn luyện, gây overfitting (hiệu quả tốt trên tập huấn luyện nhưng kém trên tập kiểm tra), làm giảm khả năng tổng quát hóa trên dữ liệu mới. Do đó, chọn số epoch phù hợp là yếu tố quan trọng để cân bằng giữa việc học đủ và tránh học quá mức."
      ]
    },
    {
      "cell_type": "markdown",
      "metadata": {
        "id": "nn3MWT7VTYTZ"
      },
      "source": [
        "## Câu 2: Thêm một tầng tích chập\n",
        "Thêm tầng tích chập giúp mô hình tìm kiếm và học các đặc trưng phức tạp hơn từ dữ liệu (như cạnh, góc, hoặc mẫu hình cao cấp), đặc biệt hiệu quả với dữ liệu không gian như ảnh. Điều này thường cải thiện độ chính xác bằng cách tăng khả năng biểu diễn, nhưng cũng có thể làm tăng nguy cơ overfitting nếu không điều chỉnh phù hợp."
      ]
    },
    {
      "cell_type": "markdown",
      "metadata": {
        "id": "Ti6Ol_JXUvZy"
      },
      "source": [
        "# Câu 3: Thay đổi learning rate\n",
        "\n",
        "Epoch 1, Loss: 0.3039\n",
        "\n",
        "Epoch 2, Loss: 0.1162\n",
        "\n",
        "Epoch 3, Loss: 0.0940\n",
        "\n",
        "Epoch 4, Loss: 0.0832\n",
        "\n",
        "Epoch 5, Loss: 0.0735\n",
        "\n",
        "Epoch 6, Loss: 0.0730\n",
        "\n",
        "Epoch 7, Loss: 0.0704\n",
        "\n",
        "Epoch 8, Loss: 0.0739\n",
        "\n",
        "Epoch 9, Loss: 0.0683\n",
        "\n",
        "Epoch 10, Loss: 0.0729\n",
        "\n",
        "Learning rate hợp lý, giúp loss giảm nhanh ban đầu rồi dao động nhẹ\n"
      ]
    },
    {
      "cell_type": "markdown",
      "metadata": {
        "id": "DNHdiHMoVVxO"
      },
      "source": [
        "# Câu 4: Vẽ thêm feature map từ tầng tích chập thứ hai\n",
        "Mô tả sự khác biệt giữa feature map từ conv1 và conv2\n",
        "\n",
        "Khi chạy code, feature map từ conv1 thường hiển thị các đặc trưng cơ bản như cạnh hoặc đường nét đơn giản của ảnh gốc (ví dụ: số trong MNIST), trong khi feature map từ conv2 trở nên trừu tượng hơn, kết hợp các đặc trưng phức tạp từ conv1 (như góc, mẫu hình) sau khi qua pooling và tích chập thêm. Kích thước của conv2_output nhỏ hơn (do pooling giảm độ phân giải), dẫn đến chi tiết bị cô đọng nhưng biểu diễn mức cao hơn.\n",
        "\n",
        "Sự khác biệt giữa feature map từ các tầng khác nhau (2-3 câu)\n",
        "\n",
        "Feature map từ tầng conv1 chủ yếu phát hiện các đặc trưng cấp thấp như cạnh và đường nét, trong khi conv2 tạo ra các đặc trưng cấp cao hơn, trừu tượng hơn như tổ hợp mẫu hình, do nó xử lý đầu ra của conv1 qua pooling và tích chập sâu hơn. Điều này làm cho feature map của conv2 nhỏ hơn về kích thước nhưng giàu thông tin ngữ nghĩa hơn."
      ]
    },
    {
      "cell_type": "markdown",
      "metadata": {},
      "source": []
    }
  ],
  "metadata": {
    "colab": {
      "provenance": []
    },
    "kernelspec": {
      "display_name": "Python 3",
      "name": "python3"
    },
    "language_info": {
      "codemirror_mode": {
        "name": "ipython",
        "version": 3
      },
      "file_extension": ".py",
      "mimetype": "text/x-python",
      "name": "python",
      "nbconvert_exporter": "python",
      "pygments_lexer": "ipython3",
      "version": "3.13.2"
    }
  },
  "nbformat": 4,
  "nbformat_minor": 0
}

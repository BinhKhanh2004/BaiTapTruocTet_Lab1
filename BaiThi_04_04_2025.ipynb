{
 "cells": [
  {
   "cell_type": "markdown",
   "metadata": {},
   "source": [
    "## PHẦN B: CÂU HỎI KIỂM TRA"
   ]
  },
  {
   "cell_type": "markdown",
   "metadata": {},
   "source": [
    " 1. (4 điểm) Tính tỷ lệ phần trăm giá trị thiếu trong từng cột bằng Pandas. Dựa trên kết quả, đề xuất một quy trình thu thập dữ liệu cụ thể cho trường học để giảm thiểu dữ liệu thiếu trong tương lai, giải thích tại sao quy trình này phù hợp với từng môn học (Math, Physics, Chemistry)."
   ]
  },
  {
   "cell_type": "code",
   "execution_count": 3,
   "metadata": {},
   "outputs": [
    {
     "name": "stdout",
     "output_type": "stream",
     "text": [
      "Tỷ lệ giá trị thiếu (%):\n",
      "Student_ID         0.000000\n",
      "Course             0.000000\n",
      "Score             10.000000\n",
      "Attendance (%)    26.666667\n",
      "Study_Hours       13.333333\n",
      "Gender            13.333333\n",
      "Campus             0.000000\n",
      "dtype: float64\n"
     ]
    }
   ],
   "source": [
    "import pandas as pd\n",
    "import numpy as np\n",
    "\n",
    "# Tạo dataframe từ dữ liệu\n",
    "data = {\n",
    "    'Student_ID': ['S001', 'S002', 'S003', 'S004', 'S005', 'S006', 'S007', 'S008', 'S009', 'S010', \n",
    "                  'S011', 'S012', 'S013', 'S014', 'S015', 'S016', 'S017', 'S018', 'S019', 'S020',\n",
    "                  'S021', 'S022', 'S023', 'S024', 'S025', 'S026', 'S027', 'S028', 'S029', 'S030'],\n",
    "    'Course': ['Math', 'Physics', 'Chemistry', 'Math', 'Physics', 'Chemistry', 'Math', 'Physics', 'Chemistry', 'Math',\n",
    "              'Physics', 'Chemistry', 'Math', 'Physics', 'Chemistry', 'Math', 'Physics', 'Chemistry', 'Math', 'Physics',\n",
    "              'Chemistry', 'Math', 'Physics', 'Chemistry', 'Math', 'Physics', 'Chemistry', 'Math', 'Physics', 'Chemistry'],\n",
    "    'Score': [85, None, 78, 92, 65, 88, None, 75, 90, 70, 82, 85, 95, 68, 83, 77, 89, 72, 84, 91, 66, 87, None, 93, 79, 86, 71, 94, 80, 88],\n",
    "    'Attendance (%)': [90, None, 70, 95, 60, None, None, 88, 92, 65, 75, None, 98, None, 90, 70, 95, 80, None, 88, 60, 92, None, 97, 85, 90, None, 95, 70, 88],\n",
    "    'Study_Hours': [5, 4, None, 6, 3, 5, 4, 5, None, 3, 4, 6, 7, 3, 5, 4, None, 3, 5, 6, 2, 5, 4, None, 3, 5, 4, 6, 3, 5],\n",
    "    'Gender': ['Male', 'Female', 'Male', 'Female', None, 'Male', 'Female', 'Male', 'Female', 'Male',\n",
    "              'Female', 'Male', 'Female', 'Male', None, 'Female', 'Male', 'Female', 'Male', 'Female',\n",
    "              None, 'Male', 'Female', 'Male', 'Female', 'Male', 'Female', None, 'Male', 'Female'],\n",
    "    'Campus': ['Campus_A', 'Campus_B', 'Campus_A', 'Campus_C', 'Campus_B', 'Campus_A', 'Campus_C', 'Campus_B', 'Campus_A', 'Campus_C',\n",
    "              'Campus_B', 'Campus_A', 'Campus_C', 'Campus_B', 'Campus_A', 'Campus_C', 'Campus_B', 'Campus_A', 'Campus_C', 'Campus_B',\n",
    "              'Campus_A', 'Campus_C', 'Campus_B', 'Campus_A', 'Campus_C', 'Campus_B', 'Campus_A', 'Campus_C', 'Campus_B', 'Campus_A']\n",
    "}\n",
    "\n",
    "df = pd.DataFrame(data)\n",
    "\n",
    "# Tính tỷ lệ giá trị thiếu\n",
    "missing_percent = df.isnull().mean() * 100\n",
    "print(\"Tỷ lệ giá trị thiếu (%):\")\n",
    "print(missing_percent)"
   ]
  },
  {
   "cell_type": "markdown",
   "metadata": {},
   "source": [
    "Đề xuất quy trình thu thập dữ liệu:\n",
    "\n",
    "Score (thiếu 10%):\n",
    "\n",
    "- Giải pháp: Tích hợp hệ thống nộp bài online tự động ghi điểm.\n",
    "\n",
    "- Lý do: Tránh thất lạc điểm do quản lý thủ công.\n",
    "\n",
    "\n",
    "Attendance (thiếu 26.7%):\n",
    "\n",
    "- Math: Điểm danh qua bài tập đầu giờ (thông qua sử dụng một Learning management system).\n",
    "- Giải thích:\n",
    "    - Toán cần sự chuyên cần và làm bài tập đều đặn => Điểm danh bằng cách hoàn thành bài tập ngắn đầu giờ đảm bảo sinh viên thực sự tham gia.\n",
    "    - Phù hợp: Tránh gian lận điểm danh, đồng thời kích thích làm bài tập ngay từ đầu buổi.\n",
    "\n",
    "- Physics: Check-in tại lab (Như Fit-lab).\n",
    "- Giải thích:\n",
    "    - Physics có nhiều buổi thí nghiệm => Điểm danh tại lab bằng GPS/QR code đảm bảo sinh viên có mặt đúng nơi, đúng giờ.\n",
    "    - Phù hợp: Ngăn điểm danh hộ, đặc biệt quan trọng với các buổi thực hành có tính rủi ro.\n",
    "    \n",
    "- Chemistry: Một nút quét vân tay ở phòng lab.\n",
    "- Giải thích:\n",
    "    - Hóa học yêu cầu an toàn cao => Điểm danh bằng vân tay đảm bảo chỉ sinh viên đăng ký mới được vào lab.\n",
    "    - Phù hợp: Theo dõi chính xác ai tham gia, giảm rủi ro tai nạn do người không có tên trong danh sách.\n",
    "Study_Hours (thiếu 13.3%):\n",
    "\n",
    "- Tự động log thời gian học trên hệ thống (LMS/lab).\n",
    "\n",
    "\n",
    "Gender (thiếu 13.3%):\n",
    "\n",
    "- Bắt buộc nhập khi đăng ký môn học."
   ]
  },
  {
   "cell_type": "markdown",
   "metadata": {},
   "source": [
    "2. (4 điểm) Điền giá trị thiếu trong Score bằng trung bình của Course tương ứng, sau đó đề xuất một phương pháp điền giá trị khác (không dùng thư viện tự động) dựa trên đặc điểm của từng Campus. Vẽ histogram trước và sau bằng Matplotlib, giải thích tại sao phương pháp của bạn phản ánh tốt hơn kết quả học tập thực tế."
   ]
  },
  {
   "cell_type": "markdown",
   "metadata": {},
   "source": [
    "a) Điền giá trị thiếu bằng trung bình theo Course"
   ]
  },
  {
   "cell_type": "code",
   "execution_count": 6,
   "metadata": {},
   "outputs": [
    {
     "data": {
      "image/png": "[encoded data removed]",
      "text/plain": [
       "<Figure size 1200x500 with 2 Axes>"
      ]
     },
     "metadata": {},
     "output_type": "display_data"
    }
   ],
   "source": [
    "import matplotlib.pyplot as plt\n",
    "\n",
    "df['Score_filled_course'] = df.groupby('Course')['Score'].transform(lambda x: x.fillna(x.mean()))\n",
    "\n",
    "# Vẽ histogram trước khi điền\n",
    "plt.figure(figsize=(12, 5))\n",
    "plt.subplot(1, 2, 1)\n",
    "plt.hist(df['Score'].dropna(), bins=10, color='blue', alpha=0.7)\n",
    "plt.title('Histogram Score (Trước khi điền)')\n",
    "plt.xlabel('Score')\n",
    "plt.ylabel('Tần suất')\n",
    "\n",
    "# Vẽ histogram sau khi điền\n",
    "plt.subplot(1, 2, 2)\n",
    "plt.hist(df['Score_filled_course'], bins=10, color='green', alpha=0.7)\n",
    "plt.title('Histogram Score (Điền theo trung bình Course)')\n",
    "plt.xlabel('Score')\n",
    "plt.tight_layout()\n",
    "plt.show()"
   ]
  },
  {
   "cell_type": "markdown",
   "metadata": {},
   "source": [
    "b) Đề xuất phương pháp khác: Điền theo trung bình Course + Campus\n",
    "Lý do:\n",
    "- Mỗi Campus có chất lượng giảng dạy khác nhau => Điểm trung bình môn Toán ở Campus A có thể khác Campus B.\n",
    "- Phản ánh sát thực tế hơn so với chỉ dùng trung bình theo Course."
   ]
  },
  {
   "cell_type": "code",
   "execution_count": 7,
   "metadata": {},
   "outputs": [
    {
     "data": {
      "image/png": "[encoded data removed]",
      "text/plain": [
       "<Figure size 640x480 with 1 Axes>"
      ]
     },
     "metadata": {},
     "output_type": "display_data"
    }
   ],
   "source": [
    "# Điền giá trị thiếu dựa trên trung bình Course + Campus\n",
    "df['Score_filled_course_campus'] = df.groupby(['Course', 'Campus'])['Score'].transform(lambda x: x.fillna(x.mean()))\n",
    "\n",
    "# Vẽ histogram sau khi điền\n",
    "plt.hist(df['Score_filled_course_campus'], bins=10, color='red', alpha=0.7)\n",
    "plt.title('Histogram Score (Điền theo Course + Campus)')\n",
    "plt.xlabel('Score')\n",
    "plt.ylabel('Tần suất')\n",
    "plt.show()"
   ]
  },
  {
   "cell_type": "markdown",
   "metadata": {},
   "source": [
    "c) Giải thích tại sao phương pháp Course + Campus tốt hơn\n",
    "- 1. Phản ánh đặc điểm từng Campus:\n",
    "    - Ví dụ: Môn Toán ở Campus A (có nhiều giảng viên giỏi) thường điểm cao hơn Campus C => Điền giá trị thiếu theo trung bình riêng sẽ chính xác hơn.\n",
    "- 2. Tránh làm phẳng phân phối điểm:\n",
    "    - Nếu chỉ dùng trung bình chung của Course, điểm ở các Campus có thể bị kéo về gần nhau, không phản ánh sự khác biệt thực tế.\n",
    "- 3. Histogram minh họa:\n",
    "    - Biểu đồ sau khi điền theo Course + Campus giữ được đa dạng phân phối điểm, không tạo ra peak nhân tạo như khi chỉ dùng trung bình Course.\n",
    "    \n",
    "=> Kết luận: Phương pháp kết hợp Course + Campus phản ánh tốt hơn thực tế vì tính đến sự khác biệt giữa các cơ sở đào tạo."
   ]
  },
  {
   "cell_type": "markdown",
   "metadata": {},
   "source": [
    "3. (4 điểm) Tính độ lệch chuẩn của Study_Hours bằng NumPy. Đề xuất một chính sách khuyến khích học tập cho sinh viên dựa trên phân tích độ lệch chuẩn và trung vị, giải thích tại sao chính sách này có thể cải thiện điểm số tổng thể."
   ]
  },
  {
   "cell_type": "markdown",
   "metadata": {},
   "source": [
    "a) Tính độ lệch chuẩn"
   ]
  },
  {
   "cell_type": "code",
   "execution_count": 8,
   "metadata": {},
   "outputs": [
    {
     "name": "stdout",
     "output_type": "stream",
     "text": [
      "Độ lệch chuẩn của Study_Hours: 1.21 giờ/tuần\n",
      "Trung vị của Study_Hours: 4.5 giờ/tuần\n"
     ]
    }
   ],
   "source": [
    "# Lấy cột Study_Hours và bỏ giá trị thiếu\n",
    "study_hours = df['Study_Hours'].dropna()\n",
    "\n",
    "# Tính độ lệch chuẩn và trung vị\n",
    "std_dev = np.std(study_hours)  # Độ lệch chuẩn\n",
    "median = np.median(study_hours)  # Trung vị\n",
    "\n",
    "print(f\"Độ lệch chuẩn của Study_Hours: {std_dev:.2f} giờ/tuần\")\n",
    "print(f\"Trung vị của Study_Hours: {median} giờ/tuần\")"
   ]
  },
  {
   "cell_type": "markdown",
   "metadata": {},
   "source": [
    "- Độ lệch chuẩn ~1.44 giờ cho thấy thời gian học của sinh viên không quá chênh lệch, nhưng vẫn có một số bạn học ít hơn/nhiều hơn đáng kể so với trung bình.\n",
    "- Trung vị = 5 giờ nghĩa là 50% sinh viên học ≤5 giờ/tuần, 50% học ≥5 giờ."
   ]
  },
  {
   "cell_type": "markdown",
   "metadata": {},
   "source": [
    "b) Đề xuất chính sách"
   ]
  },
  {
   "cell_type": "markdown",
   "metadata": {},
   "source": [
    "1. Nhóm học ít (<5 giờ/tuần):\n",
    "\n",
    "- Được sắp xếp lịch học theo cá nhân:\n",
    "\n",
    "    - Mỗi tuần nhận lịch học cụ thể (ví dụ: 2 giờ tự học + 3 giờ làm bài tập nhóm).\n",
    "\n",
    "    - Lý do: Giúp sinh viên có kế hoạch rõ ràng, tránh bỏ bê học hành.\n",
    "\n",
    "2. Nhóm học vừa (5-7 giờ/tuần):\n",
    "\n",
    "- Ưu tiên đăng ký phòng học nhóm:\n",
    "\n",
    "    - Được đặt trước phòng học nhóm trong thư viện.\n",
    "\n",
    "    - Lý do: Khuyến khích học nhóm hiệu quả, vì đây là nhóm có tiềm năng cải thiện điểm số.\n",
    "\n",
    "3. Nhóm học nhiều (>7 giờ/tuần):\n",
    "\n",
    "- Kiểm tra sức khỏe học đường:\n",
    "\n",
    "    - Gặp chuyên viên tư vấn để đảm bảo không học quá sức.\n",
    "\n",
    "    - Lý do: Học nhiều chưa chắc đã tốt nếu không có phương pháp"
   ]
  },
  {
   "cell_type": "markdown",
   "metadata": {},
   "source": [
    "c) Giải thích"
   ]
  },
  {
   "cell_type": "markdown",
   "metadata": {},
   "source": [
    "1. Cân bằng thời gian học:\n",
    "\n",
    "- Nhóm học ít được hỗ trợ kế hoạch => tăng dần thời gian học => điểm số cải thiện.\n",
    "\n",
    "- Nhóm học nhiều được tư vấn => học đúng cách hơn thay vì nhồi nhét.\n",
    "\n",
    "\n",
    "2. Dễ áp dụng:\n",
    "\n",
    "- Chi phí thấp (lịch học, phòng học nhóm sẵn có), không cần phần thưởng vật chất lớn."
   ]
  },
  {
   "cell_type": "markdown",
   "metadata": {},
   "source": [
    "4. (4 điểm) Tính correlation giữa Attendance (%) và Score cho từng Campus. Dựa trên kết quả, đề xuất một chiến lược quản lý điểm danh khác nhau cho từng Campus để tối ưu hóa điểm số, giải thích tại sao chiến lược này phù hợp với đặc điểm sinh viên tại mỗi khu vực."
   ]
  },
  {
   "cell_type": "markdown",
   "metadata": {},
   "source": [
    "a) Tính toán"
   ]
  },
  {
   "cell_type": "code",
   "execution_count": 10,
   "metadata": {},
   "outputs": [
    {
     "name": "stdout",
     "output_type": "stream",
     "text": [
      "Correlation giữa Attendance và Score theo Campus:\n",
      "Campus                  \n",
      "Campus_A  Attendance (%)    0.796770\n",
      "Campus_B  Attendance (%)    0.669938\n",
      "Campus_C  Attendance (%)    0.950319\n",
      "Name: Score, dtype: float64\n"
     ]
    }
   ],
   "source": [
    "# Điền giá trị thiếu trong Attendance bằng trung bình của từng Campus\n",
    "df['Attendance (%)'] = df.groupby('Campus')['Attendance (%)'].transform(lambda x: x.fillna(x.mean()))\n",
    "\n",
    "# Tính correlation giữa Attendance (%) và Score theo từng Campus\n",
    "correlation_by_campus = df.groupby('Campus')[['Attendance (%)', 'Score']].corr().iloc[0::2, -1]\n",
    "print(\"Correlation giữa Attendance và Score theo Campus:\")\n",
    "print(correlation_by_campus)"
   ]
  },
  {
   "cell_type": "markdown",
   "metadata": {},
   "source": [
    "b) Đề xuất chiến lược điểm danh khác nhau cho từng Campus"
   ]
  },
  {
   "cell_type": "markdown",
   "metadata": {},
   "source": [
    "1. Campus C (Correlation rất mạnh: 0.95)\n",
    "\n",
    "- Chiến lược: \n",
    "    - Điểm danh vân tay từng buổi\n",
    "    - Đóng phạt học vụ nếu vắng >20%\n",
    "    - Thưởng điểm cho sinh viên đi học >95%\n",
    "\n",
    "- Lý do:\n",
    "    - Vì điểm số phụ thuộc nhiều vào việc đi học đủ.\n",
    "\n",
    "2. Campus A (Correlation mạnh: 0.80)\n",
    "\n",
    "- Chiến lược: \n",
    "    - Điểm danh QR code từng buổi\n",
    "    - Gửi video bài giảng cho người vắng\n",
    "    - Phụ đạo cho sinh viên có attendance <70%\n",
    "- Lý do:\n",
    "    - Sinh viên cần cân bằng giữa lên lớp và tự học.\n",
    "\n",
    "3. Campus B (Correlation kkhá: 0.67)\n",
    "\n",
    "- Chiến lược: \n",
    "    - Điểm danh điện tử (cho phép đi muộn 30 phút)\n",
    "    - Đánh giá thêm qua bài tập về nhà\n",
    "    - Ưu tiên chỗ ngồi cho sinh viên đi học đều\n",
    "\n",
    "- Lý do:\n",
    "    - Cân bằng giữa yêu cầu điểm danh và tự chủ trong học tập"
   ]
  },
  {
   "cell_type": "markdown",
   "metadata": {},
   "source": [
    "5. (4 điểm) Vẽ boxplot của Score theo Course và Gender (kết hợp) bằng Seaborn. Xác định outlier bằng IQR, sau đó đề xuất một kế hoạch hỗ trợ cá nhân cho các sinh viên outlier để cải thiện kết quả học tập, giải thích cách kế hoạch này nâng cao chất lượng giáo dục."
   ]
  },
  {
   "cell_type": "markdown",
   "metadata": {},
   "source": [
    "a) Vẽ boxplot"
   ]
  },
  {
   "cell_type": "code",
   "execution_count": 13,
   "metadata": {},
   "outputs": [
    {
     "data": {
      "image/png": "[encoded data removed]",
      "text/plain": [
       "<Figure size 1000x600 with 1 Axes>"
      ]
     },
     "metadata": {},
     "output_type": "display_data"
    }
   ],
   "source": [
    "import seaborn as sns\n",
    "\n",
    "plt.figure(figsize=(10, 6))\n",
    "sns.boxplot(x='Course', y='Score', hue='Gender', data=df, palette='Set2')\n",
    "plt.title('Phân bố điểm theo Môn học và Giới tính')\n",
    "plt.xlabel('Môn học')\n",
    "plt.ylabel('Điểm số')\n",
    "plt.legend(title='Giới tính')\n",
    "plt.show()"
   ]
  },
  {
   "cell_type": "markdown",
   "metadata": {},
   "source": [
    "b) Xác định outliers bằng IQR"
   ]
  },
  {
   "cell_type": "code",
   "execution_count": 14,
   "metadata": {},
   "outputs": [
    {
     "name": "stdout",
     "output_type": "stream",
     "text": [
      "Các điểm outlier cần quan tâm:\n",
      "Course  Gender   \n",
      "Math    Male    9    70.0\n",
      "Name: Score, dtype: float64\n"
     ]
    }
   ],
   "source": [
    "def find_outliers(data):\n",
    "    q1 = data.quantile(0.25)\n",
    "    q3 = data.quantile(0.75)\n",
    "    iqr = q3 - q1\n",
    "    lower_bound = q1 - 1.5*iqr\n",
    "    upper_bound = q3 + 1.5*iqr\n",
    "    return data[(data < lower_bound) | (data > upper_bound)]\n",
    "\n",
    "# Tìm outliers cho từng nhóm\n",
    "outliers = df.groupby(['Course', 'Gender'])['Score'].apply(find_outliers).dropna()\n",
    "print(\"Các điểm outlier cần quan tâm:\")\n",
    "print(outliers)"
   ]
  },
  {
   "cell_type": "markdown",
   "metadata": {},
   "source": [
    "c) Đề xuất kế hoạch hỗ trợ cá nhân"
   ]
  },
  {
   "cell_type": "markdown",
   "metadata": {},
   "source": [
    "A. Đối với outliers thấp (điểm thấp bất thường):\n",
    "\n",
    "1. Đánh giá nguyên nhân:\n",
    "\n",
    "    - Gặp mặt riêng để tìm hiểu lý do (khó khăn gia đình, sức khỏe, phương pháp học)\n",
    "\n",
    "    - Test năng lực cơ bản\n",
    "\n",
    "2. Hỗ trợ cụ thể:\n",
    "\n",
    "    - Gia sư 1-1 2 buổi/tuần\n",
    "\n",
    "    - Tặng voucher học liệu\n",
    "\n",
    "    - Miễn giảm học phí nếu hoàn cảnh khó khăn\n",
    "\n",
    "B. Đối với outliers cao (điểm cao bất thường):\n",
    "\n",
    "1. Đánh giá năng lực:\n",
    "\n",
    "    - Kiểm tra kiến thức nâng cao\n",
    "\n",
    "    - Phỏng vấn phương pháp học\n",
    "\n",
    "2. Hỗ trợ:\n",
    "\n",
    "    - Mời tham gia nhóm nghiên cứu\n",
    "\n",
    "    - Đề xuất học vượt\n",
    "\n",
    "    - Tạo điều kiện tham gia hội thảo"
   ]
  },
  {
   "cell_type": "markdown",
   "metadata": {},
   "source": [
    "d) Giải thích"
   ]
  },
  {
   "cell_type": "markdown",
   "metadata": {},
   "source": [
    "- Cá nhân hóa học tập thay vì tiếp cận đại trà\n",
    "- Tiết kiệm nguồn lực bằng cách tập trung vào các trường hợp đặc biệt\n",
    "- Tạo môi trường công bằng: ai cũng có cơ hội được hỗ trợ phù hợp"
   ]
  },
  {
   "cell_type": "markdown",
   "metadata": {},
   "source": [
    "6. (4 điểm) Tạo cột mới Efficiency = Score / Study_Hours. Tìm sinh viên có Efficiency cao nhất, động của nó đến động lực học tập của sinh viên khác."
   ]
  },
  {
   "cell_type": "markdown",
   "metadata": {},
   "source": [
    "a) Tạo cột mới"
   ]
  },
  {
   "cell_type": "code",
   "execution_count": 15,
   "metadata": {},
   "outputs": [
    {
     "name": "stdout",
     "output_type": "stream",
     "text": [
      "Top 3 sinh viên có hiệu suất học tập cao nhất:\n",
      "   Student_ID     Course  Score  Study_Hours  Efficiency\n",
      "20       S021  Chemistry   66.0          2.0   33.000000\n",
      "28       S029    Physics   80.0          3.0   26.666667\n",
      "24       S025       Math   79.0          3.0   26.333333\n"
     ]
    }
   ],
   "source": [
    "# Tạo cột Efficiency = Score/Study_Hours (điểm số trên mỗi giờ học)\n",
    "df['Efficiency'] = df['Score'] / df['Study_Hours']\n",
    "\n",
    "# Sắp xếp theo Efficiency giảm dần\n",
    "top_efficiency = df.sort_values('Efficiency', ascending=False).head(3)\n",
    "\n",
    "print(\"Top 3 sinh viên có hiệu suất học tập cao nhất:\")\n",
    "print(top_efficiency[['Student_ID', 'Course', 'Score', 'Study_Hours', 'Efficiency']])"
   ]
  },
  {
   "cell_type": "markdown",
   "metadata": {},
   "source": [
    "b) Đề xuất phần thưởng"
   ]
  },
  {
   "cell_type": "markdown",
   "metadata": {},
   "source": [
    "- 3 triệu đồng + Ưu tiên làm trợ giảng"
   ]
  },
  {
   "cell_type": "markdown",
   "metadata": {},
   "source": [
    "c) Tác Động Đến Động Lực Sinh Viên"
   ]
  },
  {
   "cell_type": "markdown",
   "metadata": {},
   "source": [
    "A. Với người nhận học bổng:\n",
    "- Sinh viên S021 (Chemistry):\n",
    "    - Tạo động lực duy trì phương pháp đem lại hiệu suất học tập cao nhất.\n",
    "\n",
    "B. Với sinh viên khác:\n",
    "- Hiệu ứng lan tỏa:\n",
    "    - Các bạn sẽ học theo cách \"chất lượng hơn số lượng\".\n",
    "- Thay đổi văn hóa học tập:\n",
    "    - Không còn \"học thâu đêm\" mà chú trọng hiệu suất."
   ]
  },
  {
   "cell_type": "markdown",
   "metadata": {},
   "source": [
    "7. (4 điểm) Tính tỷ lệ sinh viên nữ (Gender = Female) trong từng Course sau khi điền giá trị thiếu bằng mode. Dựa trên kết quả, đề xuất một chính sách cân bằng giới tính trong giáo dục, giải thích cách chính sách này ảnh hưởng đến môi trường học tập.\n"
   ]
  },
  {
   "cell_type": "markdown",
   "metadata": {},
   "source": [
    "a) Điền giá trị thiếu"
   ]
  },
  {
   "cell_type": "code",
   "execution_count": 20,
   "metadata": {},
   "outputs": [
    {
     "name": "stdout",
     "output_type": "stream",
     "text": [
      "Tỷ lệ giá trị thiếu sau khi điền:\n",
      "0.0\n"
     ]
    }
   ],
   "source": [
    "# Tính mode của Gender\n",
    "gender_mode = df['Gender'].mode()[0]\n",
    "\n",
    "# Điền giá trị thiếu bằng mode\n",
    "df['Gender'] = df['Gender'].fillna(gender_mode)\n",
    "\n",
    "# Kiểm tra lại tỷ lệ thiếu\n",
    "print(\"Tỷ lệ giá trị thiếu sau khi điền:\")\n",
    "print(df['Gender'].isnull().mean())"
   ]
  },
  {
   "cell_type": "code",
   "execution_count": 19,
   "metadata": {},
   "outputs": [
    {
     "name": "stdout",
     "output_type": "stream",
     "text": [
      "\n",
      "Tỷ lệ sinh viên nữ theo môn học (%):\n",
      "Course\n",
      "Chemistry    60.0\n",
      "Math         60.0\n",
      "Physics      50.0\n",
      "Name: Female, dtype: float64\n"
     ]
    }
   ],
   "source": [
    "# Tính tổng số sinh viên và số nữ theo môn\n",
    "gender_distribution = df.groupby('Course')['Gender'].value_counts(normalize=True).unstack()\n",
    "female_ratio = gender_distribution['Female'] * 100  # Chuyển sang phần trăm\n",
    "\n",
    "print(\"\\nTỷ lệ sinh viên nữ theo môn học (%):\")\n",
    "print(female_ratio)"
   ]
  },
  {
   "cell_type": "markdown",
   "metadata": {},
   "source": [
    "b) Đề xuất chính sách"
   ]
  },
  {
   "cell_type": "markdown",
   "metadata": {},
   "source": [
    "A. Với môn Hóa và Toán (nữ > nam):\n",
    "\n",
    "- Mời nam diễn giả (nhà hóa học, kỹ sư) chia sẻ về cơ hội nghề nghiệp.\n",
    "\n",
    "- Tạo học bổng riêng cho nam sinh đăng ký môn Hóa/Toán.\n",
    "\n",
    "B. Với môn Lý (cân bằng 50-50):\n",
    "\n",
    "- Duy trì môi trường bình đẳng:\n",
    "\n",
    "    - Tổ chức cuộc thi vật lý theo nhóm hỗn hợp nam-nữ.\n",
    "\n",
    "    - Đảm bảo hình ảnh minh họa trong giáo trình có cả nam và nữ.\n",
    "\n",
    "C. Hoạt động chung:\n",
    "\n",
    "- Sinh viên thảo luận về vai trò của giới tính trong học tập.\n",
    "\n",
    "- Mời cựu sinh viên thành công ở các lĩnh vực \"trái giới tính\" (nữ kỹ sư, nam giáo viên)."
   ]
  },
  {
   "cell_type": "markdown",
   "metadata": {},
   "source": [
    "c) Tác động"
   ]
  },
  {
   "cell_type": "markdown",
   "metadata": {},
   "source": [
    "A. Giảm chênh lệch ở Hóa/Toán\n",
    "- Tăng tỷ lệ nam sinh từ 40% => 50%\n",
    "\n",
    "B. Củng cố cân bằng ở Lý\n",
    "- Duy trì tỷ lệ 50-50, giảm bất bình đẳng ngầm"
   ]
  },
  {
   "cell_type": "markdown",
   "metadata": {},
   "source": [
    "8. (4 điểm) Vẽ scatter plot giữa Attendance (%) và Score, tô màu theo Campus. Đề xuất một kế hoạch cải thiện điểm danh cho từng Campus dựa trên phân bố dữ liệu, giải thích tại sao kế hoạch này tối ưu hóa kết quả học tập"
   ]
  },
  {
   "cell_type": "markdown",
   "metadata": {},
   "source": [
    "a) Vẽ scatterplot"
   ]
  },
  {
   "cell_type": "code",
   "execution_count": 37,
   "metadata": {},
   "outputs": [
    {
     "data": {
      "image/png": "[encoded data removed]",
      "text/plain": [
       "<Figure size 800x600 with 1 Axes>"
      ]
     },
     "metadata": {},
     "output_type": "display_data"
    }
   ],
   "source": [
    "plt.figure(figsize=(8, 6))\n",
    "for campus in df['Campus'].unique():\n",
    "    subset = df[df['Campus'] == campus]\n",
    "    plt.scatter(subset['Attendance (%)'], subset['Score'], label=campus)\n",
    "plt.xlabel('Attendance (%)')\n",
    "plt.ylabel('Score')\n",
    "plt.legend()\n",
    "plt.title('Attendance (%) vs Score by Campus')\n",
    "plt.show()"
   ]
  },
  {
   "cell_type": "markdown",
   "metadata": {},
   "source": [
    "b) Đề xuất kế hoạch cải thiện điểm danh:\n",
    "\n",
    "- Campus_A: Dùng hệ thống điểm danh bằng QR code trong lớp.\n",
    "    - Lý do: Nhiều sinh viên có điểm danh cao (80-90%) và điểm tốt, QR code giúp duy trì tính chính xác và tiết kiệm thời gian, tối ưu hóa kết quả học tập.\n",
    "- Campus_B: Thưởng điểm cộng cho Attendance trên 85%.\n",
    "    - Lý do: Phân bố Attendance thấp hơn (60-75%), điểm thưởng khuyến khích sinh viên đi học đều, cải thiện điểm số qua sự tham gia.\n",
    "- Campus_C: Tổ chức kiểm tra nhỏ đầu giờ, tính vào Attendance.\n",
    "    - Lý do: Attendance cao (90-98%) nhưng Score dao động, kiểm tra nhỏ vừa tăng động lực đi học vừa củng cố kiến thức, nâng cao kết quả."
   ]
  },
  {
   "cell_type": "markdown",
   "metadata": {},
   "source": [
    "9. (4 điểm) Tính trung bình Score của từng Course sau khi điền dữ liệu thiếu. Vẽ bar chart so sánh, sau đó đề xuất một chiến lược cải thiện cho môn học có điểm trung bình thấp nhất, dựa trên đặc điểm giảng dạy của môn đó (Math, Physics, Chemistry)."
   ]
  },
  {
   "cell_type": "code",
   "execution_count": 38,
   "metadata": {},
   "outputs": [
    {
     "data": {
      "image/png": "[encoded data removed]",
      "text/plain": [
       "<Figure size 800x500 with 1 Axes>"
      ]
     },
     "metadata": {},
     "output_type": "display_data"
    },
    {
     "name": "stdout",
     "output_type": "stream",
     "text": [
      "Trung bình Score theo Course:\n",
      "Course\n",
      "Chemistry    81.400000\n",
      "Math         84.777778\n",
      "Physics      79.500000\n",
      "Name: Score, dtype: float64\n"
     ]
    }
   ],
   "source": [
    "# Điền giá trị thiếu trong Score bằng trung bình theo Course\n",
    "df['Score'] = df.groupby('Course')['Score'].transform(lambda x: x.fillna(x.mean()))\n",
    "\n",
    "# Tính trung bình Score theo Course\n",
    "mean_scores = df.groupby('Course')['Score'].mean()\n",
    "\n",
    "# Vẽ bar chart\n",
    "plt.figure(figsize=(8, 5))\n",
    "mean_scores.plot(kind='bar', color=['#FF9999', '#66B2FF', '#99FF99'])\n",
    "plt.xlabel('Course')\n",
    "plt.ylabel('Average Score')\n",
    "plt.title('Average Score by Course')\n",
    "plt.xticks(rotation=0)\n",
    "plt.show()\n",
    "\n",
    "# In trung bình\n",
    "print(\"Trung bình Score theo Course:\")\n",
    "print(mean_scores)"
   ]
  },
  {
   "cell_type": "markdown",
   "metadata": {},
   "source": [
    "b) Đề xuất chiến lược cải thiện:\n",
    "\n",
    "- Môn có điểm trung bình thấp nhất: Physics (79.5).\n",
    "- Chiến lược: Tăng giờ thực hành thí nghiệm tại lab.\n",
    "- Lý do: Physics nặng về ứng dụng thực tế, thêm lab giúp sinh viên hiểu sâu hơn, cải thiện điểm số hiệu quả."
   ]
  },
  {
   "cell_type": "markdown",
   "metadata": {},
   "source": [
    "Câu 10. (4 điểm) Tìm các sinh viên có Attendance (%) dưới 70% nhưng Score trên 85 bằng Pandas. Đề xuất một nghiên cứu nội bộ để xác định yếu tố nào (kỹ năng tự học, tài liệu, công nghệ) giúp họ đạt điểm cao, giải thích cách áp dụng kết quả cho toàn trường."
   ]
  },
  {
   "cell_type": "code",
   "execution_count": 39,
   "metadata": {},
   "outputs": [
    {
     "name": "stdout",
     "output_type": "stream",
     "text": [
      "Sinh viên có Attendance < 70% nhưng Score > 85:\n",
      "Empty DataFrame\n",
      "Columns: [Student_ID, Course, Score, Attendance (%)]\n",
      "Index: []\n"
     ]
    }
   ],
   "source": [
    "# Điền giá trị thiếu trong Score bằng trung bình theo Course\n",
    "df['Score'] = df.groupby('Course')['Score'].transform(lambda x: x.fillna(x.mean()))\n",
    "\n",
    "# Lọc sinh viên có Attendance < 70% và Score > 85\n",
    "result = df[(df['Attendance (%)'] < 70) & (df['Score'] > 85)]\n",
    "print(\"Sinh viên có Attendance < 70% nhưng Score > 85:\")\n",
    "print(result[['Student_ID', 'Course', 'Score', 'Attendance (%)']])"
   ]
  },
  {
   "cell_type": "markdown",
   "metadata": {},
   "source": [
    "b) Đề xuất nghiên cứu nội bộ:\n",
    "\n",
    "- Nghiên cứu: Vì không tìm thấy trường hợp nào, mở rộng khảo sát toàn bộ sinh viên có Attendance thấp (dưới 70%) để xem yếu tố nào (kỹ năng tự học, tài liệu, công nghệ) giúp họ đạt điểm khá (ví dụ: > 70). Dùng bảng hỏi hoặc phỏng vấn ngắn.\n",
    "- Cách áp dụng: Nếu kỹ năng tự học tốt là yếu tố chính, thêm lớp hướng dẫn tự học; nếu công nghệ hỗ trợ, nâng cấp hệ thống học online. Áp dụng toàn trường để tăng điểm cho nhóm đi học ít."
   ]
  },
  {
   "cell_type": "markdown",
   "metadata": {},
   "source": [
    "Câu 11. (4 điểm) Điền giá trị thiếu trong Score bằng hồi quy tuyến tính thủ công dựa trên Attendance (%) và Study_Hours. So sánh với phương pháp trung bình, sau đó đề xuất một cách tiếp cận lai (kết hợp hồi quy và trung bình) để cải thiện độ chính xác, giải thích lý do."
   ]
  },
  {
   "cell_type": "code",
   "execution_count": 40,
   "metadata": {},
   "outputs": [
    {
     "name": "stdout",
     "output_type": "stream",
     "text": [
      "Score bằng hồi quy:\n",
      "  Student_ID      Score  Score_regression\n",
      "0       S001  85.000000         85.000000\n",
      "1       S002  79.500000         79.500000\n",
      "2       S003  78.000000         78.000000\n",
      "3       S004  92.000000         92.000000\n",
      "4       S005  65.000000         65.000000\n",
      "5       S006  88.000000         88.000000\n",
      "6       S007  84.777778         84.777778\n",
      "7       S008  75.000000         75.000000\n",
      "8       S009  90.000000         90.000000\n",
      "9       S010  70.000000         70.000000\n",
      "\n",
      "Score bằng trung bình:\n",
      "  Student_ID      Score  Score_mean\n",
      "0       S001  85.000000   85.000000\n",
      "1       S002  79.500000   79.500000\n",
      "2       S003  78.000000   78.000000\n",
      "3       S004  92.000000   92.000000\n",
      "4       S005  65.000000   65.000000\n",
      "5       S006  88.000000   88.000000\n",
      "6       S007  84.777778   84.777778\n",
      "7       S008  75.000000   75.000000\n",
      "8       S009  90.000000   90.000000\n",
      "9       S010  70.000000   70.000000\n"
     ]
    }
   ],
   "source": [
    "# Lấy dữ liệu không thiếu để xây hồi quy\n",
    "df_complete = df.dropna(subset=['Score', 'Attendance (%)', 'Study_Hours'])\n",
    "X = df_complete[['Attendance (%)', 'Study_Hours']].values\n",
    "y = df_complete['Score'].values\n",
    "\n",
    "# Hồi quy tuyến tính thủ công (tính beta0, beta1, beta2)\n",
    "X_mean = np.mean(X, axis=0)\n",
    "y_mean = np.mean(y)\n",
    "numerator_beta1 = np.sum((X[:, 0] - X_mean[0]) * (y - y_mean))\n",
    "denominator_beta1 = np.sum((X[:, 0] - X_mean[0]) ** 2)\n",
    "beta1 = numerator_beta1 / denominator_beta1\n",
    "numerator_beta2 = np.sum((X[:, 1] - X_mean[1]) * (y - y_mean))\n",
    "denominator_beta2 = np.sum((X[:, 1] - X_mean[1]) ** 2)\n",
    "beta2 = numerator_beta2 / denominator_beta2\n",
    "beta0 = y_mean - beta1 * X_mean[0] - beta2 * X_mean[1]\n",
    "\n",
    "# Dự đoán Score cho các giá trị thiếu\n",
    "df['Score_regression'] = df.apply(\n",
    "    lambda row: beta0 + beta1 * row['Attendance (%)'] + beta2 * row['Study_Hours'] \n",
    "    if pd.isna(row['Score']) and not pd.isna(row['Attendance (%)']) and not pd.isna(row['Study_Hours']) \n",
    "    else row['Score'], axis=1\n",
    ")\n",
    "\n",
    "# Điền Score bằng trung bình theo Course để so sánh\n",
    "df['Score_mean'] = df.groupby('Course')['Score'].transform(lambda x: x.fillna(x.mean()))\n",
    "\n",
    "# So sánh\n",
    "print(\"Score bằng hồi quy:\")\n",
    "print(df[['Student_ID', 'Score', 'Score_regression']].head(10))\n",
    "print(\"\\nScore bằng trung bình:\")\n",
    "print(df[['Student_ID', 'Score', 'Score_mean']].head(10))"
   ]
  },
  {
   "cell_type": "markdown",
   "metadata": {},
   "source": [
    "b) So sánh:\n",
    "- Hồi quy: Không thay đổi nhiều vì thiếu dữ liệu Attendance và Study_Hours ở các dòng cần điền (như S002, S007).\n",
    "- Trung bình: Điền ổn định dựa trên Course, nhưng không cá nhân hóa.\n",
    "\n",
    "c) Đề xuất cách tiếp cận lai:\n",
    "- Cách làm: Dùng 70% trung bình Course + 30% dự đoán hồi quy khi có đủ Attendance và Study_Hours.\n",
    "- Lý do: Trung bình đảm bảo ổn định, hồi quy thêm yếu tố cá nhân khi dữ liệu đầy đủ, tăng độ chính xác."
   ]
  },
  {
   "cell_type": "markdown",
   "metadata": {},
   "source": [
    "Câu 12. (4 điểm) Tính skewness của Score bằng SciPy. Dựa trên kết quả, đề xuất một cách điều chỉnh cách tính điểm trong trường học để phân bố công bằng hơn, giải thích tác động đến đánh giá sinh viên."
   ]
  },
  {
   "cell_type": "code",
   "execution_count": 43,
   "metadata": {},
   "outputs": [
    {
     "name": "stdout",
     "output_type": "stream",
     "text": [
      "Skewness của Score: -0.4113\n"
     ]
    }
   ],
   "source": [
    "from scipy.stats import skew\n",
    "\n",
    "# Điền giá trị thiếu trong Score bằng trung bình theo Course\n",
    "df['Score'] = df.groupby('Course')['Score'].transform(lambda x: x.fillna(x.mean()))\n",
    "\n",
    "# Tính skewness\n",
    "score_skewness = skew(df['Score'].dropna())\n",
    "print(f\"Skewness của Score: {score_skewness:.4f}\")"
   ]
  },
  {
   "cell_type": "markdown",
   "metadata": {},
   "source": [
    "Đề xuất cách điều chỉnh:\n",
    "- Cách làm: Thêm điểm thưởng cho bài tập nhóm (ví dụ: +10% điểm nếu hoàn thành tốt).\n",
    "- Tác động: Skewness âm (-0.4113) cho thấy nhiều điểm thấp, điểm thưởng kéo phân bố về phải, khuyến khích làm việc nhóm, đánh giá công bằng hơn dựa trên nỗ lực."
   ]
  },
  {
   "cell_type": "markdown",
   "metadata": {},
   "source": [
    "Câu 13. (4 điểm) Vẽ pairplot bằng Seaborn cho Score, Attendance (%), Study_Hours. Dựa trên mối quan hệ, đề xuất một mô hình đánh giá kết quả học tập mới cho trường, giải thích tại sao mô hình này tốt hơn cách tính hiện tại."
   ]
  },
  {
   "cell_type": "code",
   "execution_count": 47,
   "metadata": {},
   "outputs": [
    {
     "data": {
      "image/png": "[encoded data removed]",
      "text/plain": [
       "<Figure size 750x750 with 12 Axes>"
      ]
     },
     "metadata": {},
     "output_type": "display_data"
    }
   ],
   "source": [
    "df = pd.DataFrame(data)\n",
    "df['Score'] = df.groupby('Course')['Score'].transform(lambda x: x.fillna(x.mean()))\n",
    "df['Attendance (%)'] = df['Attendance (%)'].fillna(df['Attendance (%)'].mean())\n",
    "df['Study_Hours'] = df['Study_Hours'].fillna(df['Study_Hours'].mean())\n",
    "\n",
    "# Vẽ pairplot\n",
    "sns.pairplot(df[['Score', 'Attendance (%)', 'Study_Hours']])\n",
    "plt.show()"
   ]
  },
  {
   "cell_type": "markdown",
   "metadata": {},
   "source": [
    "Đề xuất mô hình đánh giá mới:\n",
    "- Mô hình: Điểm tổng = 60% Score + 30% Attendance (%) + 10% Study_Hours.\n",
    "- Lý do: Attendance ảnh hưởng nhiều đến Score, nên chiếm tỷ trọng cao; Study_Hours ít tác động hơn, nên tỷ trọng thấp. Mô hình này đánh giá toàn diện hơn, khuyến khích đi học đều, tốt hơn cách tính hiện tại chỉ dựa vào Score."
   ]
  },
  {
   "cell_type": "markdown",
   "metadata": {},
   "source": [
    "Câu 14. (4 điểm) Nhóm dữ liệu theo Campus, tính tỷ lệ sinh viên có Score trên 80. Vẽ pie chart so sánh, sau đó đề xuất một chiến lược khen thưởng khác nhau cho từng Campus dựa trên tỷ lệ, giải thích tác động đến tinh thần học tập."
   ]
  },
  {
   "cell_type": "code",
   "execution_count": 52,
   "metadata": {},
   "outputs": [
    {
     "name": "stderr",
     "output_type": "stream",
     "text": [
      "C:\\Users\\shuri\\AppData\\Local\\Temp\\ipykernel_19292\\3456294850.py:5: DeprecationWarning: DataFrameGroupBy.apply operated on the grouping columns. This behavior is deprecated, and in a future version of pandas the grouping columns will be excluded from the operation. Either pass `include_groups=False` to exclude the groupings or explicitly select the grouping columns after groupby to silence this warning.\n",
      "  score_above_80 = df.groupby('Campus').apply(lambda x: (x['Score'] > 80).mean())\n"
     ]
    },
    {
     "data": {
      "image/png": "[encoded data removed]",
      "text/plain": [
       "<Figure size 600x600 with 1 Axes>"
      ]
     },
     "metadata": {},
     "output_type": "display_data"
    },
    {
     "name": "stdout",
     "output_type": "stream",
     "text": [
      "Tỷ lệ sinh viên có Score > 80 theo Campus:\n",
      "Campus\n",
      "Campus_A    0.636364\n",
      "Campus_B    0.400000\n",
      "Campus_C    0.666667\n",
      "dtype: float64\n"
     ]
    }
   ],
   "source": [
    "df = pd.DataFrame(data)\n",
    "df['Score'] = df.groupby('Course')['Score'].transform(lambda x: x.fillna(x.mean()))\n",
    "\n",
    "# Nhóm theo Campus, tính tỷ lệ Score > 80\n",
    "score_above_80 = df.groupby('Campus').apply(lambda x: (x['Score'] > 80).mean())\n",
    "\n",
    "# Vẽ pie chart\n",
    "plt.figure(figsize=(6, 6))\n",
    "plt.pie(score_above_80, labels=score_above_80.index, autopct='%1.1f%%', colors=['#FF9999', '#66B2FF', '#99FF99'])\n",
    "plt.title('Tỷ lệ sinh viên có Score > 80 theo Campus')\n",
    "plt.show()\n",
    "\n",
    "# In tỷ lệ\n",
    "print(\"Tỷ lệ sinh viên có Score > 80 theo Campus:\")\n",
    "print(score_above_80)"
   ]
  },
  {
   "cell_type": "markdown",
   "metadata": {},
   "source": [
    "Đề xuất chiến lược khen thưởng:\n",
    "\n",
    "- Campus_A (37.4%): Tặng học bổng 1.5 triệu cho sinh viên Score > 85.\n",
    "    - Tác động: Tỷ lệ khá cao, học bổng vừa phải tạo động lực duy trì thành tích.\n",
    "- Campus_B (23.5%): Thưởng 300k cho sinh viên Score > 80.\n",
    "    - Tác động: Tỷ lệ thấp, phần thưởng nhỏ khuyến khích cải thiện điểm số.\n",
    "- Campus_C (39.1%): Tặng chuyến dã ngoại cho sinh viên Score > 80.\n",
    "    - Tác động: Tỷ lệ cao nhất, phần thưởng vui vẻ tăng tinh thần học tập."
   ]
  },
  {
   "cell_type": "markdown",
   "metadata": {},
   "source": [
    "Câu 15. (4 điểm) Tạo hàm Python xác định sinh viên có Score ngoài 2 độ lệch chuẩn. Đề xuất một quy trình đánh giá lại điểm số cho những sinh viên này, giải thích cách quy trình này tránh được thiên vị trong giáo dục."
   ]
  },
  {
   "cell_type": "code",
   "execution_count": 53,
   "metadata": {},
   "outputs": [
    {
     "name": "stdout",
     "output_type": "stream",
     "text": [
      "Sinh viên có Score ngoài 2 độ lệch chuẩn:\n",
      "Empty DataFrame\n",
      "Columns: [Student_ID, Score]\n",
      "Index: []\n"
     ]
    }
   ],
   "source": [
    "# Hàm xác định sinh viên có Score ngoài 2 độ lệch chuẩn\n",
    "def find_outliers(df, column):\n",
    "    mean = df[column].mean()\n",
    "    std = df[column].std()\n",
    "    lower_bound = mean - 2 * std\n",
    "    upper_bound = mean + 2 * std\n",
    "    outliers = df[(df[column] < lower_bound) | (df[column] > upper_bound)]\n",
    "    return outliers\n",
    "\n",
    "# Áp dụng hàm\n",
    "outliers = find_outliers(df, 'Score')\n",
    "print(\"Sinh viên có Score ngoài 2 độ lệch chuẩn:\")\n",
    "print(outliers[['Student_ID', 'Score']])"
   ]
  },
  {
   "cell_type": "markdown",
   "metadata": {},
   "source": [
    "Đề xuất: \n",
    "- (1) Giáo viên xem lại bài thi của sinh viên vượt 2 độ lệch chuẩn, so sánh với đáp án và barem. \n",
    "- (2) Tổ chức phỏng vấn nhanh để kiểm tra kiến thức thực tế. \n",
    "- (3) Nhờ giáo viên khác chấm lại bài nhằm đảm bảo khách quan.\n",
    "\n",
    "Giải thích:\n",
    "\n",
    "- Cách này tránh thiên vị vì: Xem lại bài thi sửa lỗi chấm sai, phỏng vấn đánh giá năng lực thật, không chỉ dựa điểm. Giáo viên khác chấm lại giúp loại bỏ cảm tính từ người chấm đầu, giữ công bằng cho sinh viên."
   ]
  },
  {
   "cell_type": "markdown",
   "metadata": {},
   "source": []
  },
  {
   "cell_type": "markdown",
   "metadata": {},
   "source": [
    "# CÂU HỎI ANN"
   ]
  },
  {
   "cell_type": "markdown",
   "metadata": {},
   "source": [
    "Xây dựng một ANN để dự đoán Score dựa trên Attendance (%), Study_Hours, và Course (mã hóa one-hot encoding)."
   ]
  },
  {
   "cell_type": "markdown",
   "metadata": {},
   "source": [
    "16. (10 điểm) Điền giá trị thiếu trong Attendance (%) và Study_Hours bằng KNN Imputer từ Scikitlearn (Tham khảo: https://www.geeksforgeeks.orghandling-missing-data-with-knn-imputer/). So sánh kết quả với trung vị, sau đó đề xuất một phương pháp thu thập dữ liệu thay thế để giảm thiểu giá trị thiếu trong giáo dục, giải thích lý do."
   ]
  },
  {
   "cell_type": "markdown",
   "metadata": {},
   "source": [
    "a) Điền giá trị thiếu"
   ]
  },
  {
   "cell_type": "code",
   "execution_count": 22,
   "metadata": {},
   "outputs": [
    {
     "name": "stdout",
     "output_type": "stream",
     "text": [
      "Giá trị sau khi điền bằng KNN Imputer:\n",
      "   Attendance (%)  Study_Hours\n",
      "0       90.000000     5.000000\n",
      "1       80.857143     4.000000\n",
      "2       70.000000     3.666667\n",
      "3       95.000000     6.000000\n",
      "4       60.000000     3.000000\n"
     ]
    }
   ],
   "source": [
    "from sklearn.impute import KNNImputer\n",
    "\n",
    "# Tạo bản sao để không ảnh hưởng đến dữ liệu gốc\n",
    "df_ann = df.copy()\n",
    "\n",
    "# Mã hóa one-hot cho Course\n",
    "df_ann = pd.get_dummies(df_ann, columns=['Course'])\n",
    "\n",
    "# Chọn các cột cần điền giá trị thiếu\n",
    "cols_to_impute = ['Attendance (%)', 'Study_Hours'] + [c for c in df_ann.columns if c.startswith('Course_')]\n",
    "\n",
    "# Khởi tạo KNN Imputer (lấy k=3 hàng xóm gần nhất)\n",
    "imputer = KNNImputer(n_neighbors=3)\n",
    "df_ann[cols_to_impute] = imputer.fit_transform(df_ann[cols_to_impute])\n",
    "\n",
    "# Kiểm tra kết quả\n",
    "print(\"Giá trị sau khi điền bằng KNN Imputer:\")\n",
    "print(df_ann[['Attendance (%)', 'Study_Hours']].head())"
   ]
  },
  {
   "cell_type": "markdown",
   "metadata": {},
   "source": [
    "b) So sánh"
   ]
  },
  {
   "cell_type": "code",
   "execution_count": 23,
   "metadata": {},
   "outputs": [
    {
     "name": "stdout",
     "output_type": "stream",
     "text": [
      "\n",
      "So sánh giá trị trung bình sau khi điền:\n",
      "                 Original  KNN Imputer     Median\n",
      "Attendance (%)  83.237500    83.237500  83.237500\n",
      "Study_Hours      4.423077     4.522222   4.433333\n"
     ]
    }
   ],
   "source": [
    "# Điền trung vị\n",
    "df_median = df.copy()\n",
    "df_median['Attendance (%)'] = df_median['Attendance (%)'].fillna(df_median['Attendance (%)'].median())\n",
    "df_median['Study_Hours'] = df_median['Study_Hours'].fillna(df_median['Study_Hours'].median())\n",
    "\n",
    "# So sánh 2 phương pháp\n",
    "comparison = pd.DataFrame({\n",
    "    'Original': df[['Attendance (%)', 'Study_Hours']].mean(),\n",
    "    'KNN Imputer': df_ann[['Attendance (%)', 'Study_Hours']].mean(),\n",
    "    'Median': df_median[['Attendance (%)', 'Study_Hours']].mean()\n",
    "})\n",
    "print(\"\\nSo sánh giá trị trung bình sau khi điền:\")\n",
    "print(comparison)"
   ]
  },
  {
   "cell_type": "markdown",
   "metadata": {},
   "source": [
    "c) Đề xuất phương pháp"
   ]
  },
  {
   "cell_type": "markdown",
   "metadata": {},
   "source": [
    "A. Hệ thống điểm danh thông minh\n",
    "\n",
    "- Sử dụng app quét QR code kết hợp GPS để xác nhận vị trí\n",
    "\n",
    "- Tích hợp với hệ thống LMS để tự động ghi nhận Attendance (%)\n",
    "\n",
    "B. Theo dõi thời gian học (Study_Hours)\n",
    "\n",
    "- App mobile ghi lại thời gian mở tài liệu/bài giảng\n",
    "\n",
    "- Cảm biến IoT tại thư viện/phòng lab đo thời gian sử dụng\n",
    "\n",
    "- Lý do chọn phương pháp:\n",
    "\n",
    "    - Giảm 90% dữ liệu thiếu: Không phụ thuộc vào sinh viên tự báo cáo\n",
    "\n",
    "    - Dữ liệu khách quan: Ghi nhận tự động nên tránh sai sót\n",
    "\n",
    "    - Tích hợp AI dễ dàng: Dữ liệu sạch để train ANN chính xác hơn"
   ]
  },
  {
   "cell_type": "markdown",
   "metadata": {},
   "source": [
    "17. (10 điểm) Mã hóa Course thành one-hotencoding bằng Pandas (Thamkhảo:https://www.geeksforgeeks.org/ml-one-hot-encoding/). Chuẩn bị tập dữ liệu đầu vào với 5 đặc trưng (3 từ Course, 1 từ Attendance, 1 từ Study_Hours), chuẩn hóa về [0, 1]. Đề xuất một cách trực quan hóa dữ liệu khác (không dùng biểu đồ cơ bản) để hiểu rõ hơn mối quan hệ giữa các đặc trưng và Score."
   ]
  },
  {
   "cell_type": "markdown",
   "metadata": {},
   "source": [
    "a) Mã hóa"
   ]
  },
  {
   "cell_type": "code",
   "execution_count": 33,
   "metadata": {},
   "outputs": [
    {
     "name": "stdout",
     "output_type": "stream",
     "text": [
      "   Course_Chemistry  Course_Math  Course_Physics\n",
      "0             False         True           False\n",
      "1             False        False            True\n",
      "2              True        False           False\n",
      "3             False         True           False\n",
      "4             False        False            True\n"
     ]
    }
   ],
   "source": [
    "# Tạo bản sao dataframe\n",
    "df_encoded = df.copy()\n",
    "\n",
    "# Mã hóa one-hot cho cột Course\n",
    "df_encoded = pd.get_dummies(df_encoded, columns=['Course'], prefix='Course')\n",
    "\n",
    "# Kiểm tra kết quả\n",
    "print(df_encoded[['Course_Chemistry', 'Course_Math', 'Course_Physics']].head())"
   ]
  },
  {
   "cell_type": "markdown",
   "metadata": {},
   "source": [
    "b) Chuẩn bị dữ liệu"
   ]
  },
  {
   "cell_type": "code",
   "execution_count": 34,
   "metadata": {},
   "outputs": [
    {
     "name": "stdout",
     "output_type": "stream",
     "text": [
      "\n",
      "Đặc trưng sau chuẩn hóa:\n",
      "[[0.         1.         0.         0.78947368 0.6       ]\n",
      " [0.         0.         1.         0.54887218 0.4       ]\n",
      " [1.         0.         0.         0.26315789        nan]\n",
      " [0.         1.         0.         0.92105263 0.8       ]\n",
      " [0.         0.         1.         0.         0.2       ]]\n"
     ]
    }
   ],
   "source": [
    "from sklearn.preprocessing import MinMaxScaler\n",
    "\n",
    "# Chọn 5 đặc trưng (3 từ Course, 1 Attendance, 1 Study_Hours)\n",
    "features = df_encoded[['Course_Chemistry', 'Course_Math', 'Course_Physics', 'Attendance (%)', 'Study_Hours']]\n",
    "target = df_encoded['Score']\n",
    "\n",
    "# Chuẩn hóa về [0, 1]\n",
    "scaler = MinMaxScaler()\n",
    "features_normalized = scaler.fit_transform(features)\n",
    "\n",
    "# Kiểm tra\n",
    "print(\"\\nĐặc trưng sau chuẩn hóa:\")\n",
    "print(features_normalized[:5])"
   ]
  },
  {
   "cell_type": "markdown",
   "metadata": {},
   "source": [
    "c) Đề xuất trực quan hóa dữ liệu sử dụng phương pháp Parallel Coordinates Plot"
   ]
  },
  {
   "cell_type": "code",
   "execution_count": 35,
   "metadata": {},
   "outputs": [
    {
     "ename": "KeyError",
     "evalue": "np.float64(nan)",
     "output_type": "error",
     "traceback": [
      "\u001b[1;31m---------------------------------------------------------------------------\u001b[0m",
      "\u001b[1;31mKeyError\u001b[0m                                  Traceback (most recent call last)",
      "Cell \u001b[1;32mIn[35], line 9\u001b[0m\n\u001b[0;32m      7\u001b[0m \u001b[38;5;66;03m# Vẽ parallel coordinates\u001b[39;00m\n\u001b[0;32m      8\u001b[0m plt\u001b[38;5;241m.\u001b[39mfigure(figsize\u001b[38;5;241m=\u001b[39m(\u001b[38;5;241m10\u001b[39m, \u001b[38;5;241m6\u001b[39m))\n\u001b[1;32m----> 9\u001b[0m \u001b[43mparallel_coordinates\u001b[49m\u001b[43m(\u001b[49m\u001b[43mviz_df\u001b[49m\u001b[43m,\u001b[49m\u001b[43m \u001b[49m\u001b[38;5;124;43m'\u001b[39;49m\u001b[38;5;124;43mScore\u001b[39;49m\u001b[38;5;124;43m'\u001b[39;49m\u001b[43m,\u001b[49m\u001b[43m \u001b[49m\u001b[43mcolormap\u001b[49m\u001b[38;5;241;43m=\u001b[39;49m\u001b[38;5;124;43m'\u001b[39;49m\u001b[38;5;124;43mviridis\u001b[39;49m\u001b[38;5;124;43m'\u001b[39;49m\u001b[43m)\u001b[49m\n\u001b[0;32m     10\u001b[0m plt\u001b[38;5;241m.\u001b[39mtitle(\u001b[38;5;124m'\u001b[39m\u001b[38;5;124mMối quan hệ đa chiều giữa các đặc trưng và Score\u001b[39m\u001b[38;5;124m'\u001b[39m)\n\u001b[0;32m     11\u001b[0m plt\u001b[38;5;241m.\u001b[39mxlabel(\u001b[38;5;124m'\u001b[39m\u001b[38;5;124mĐặc trưng\u001b[39m\u001b[38;5;124m'\u001b[39m)\n",
      "File \u001b[1;32mc:\\Users\\shuri\\AppData\\Local\\Programs\\Python\\Python313\\Lib\\site-packages\\pandas\\plotting\\_misc.py:513\u001b[0m, in \u001b[0;36mparallel_coordinates\u001b[1;34m(frame, class_column, cols, ax, color, use_columns, xticks, colormap, axvlines, axvlines_kwds, sort_labels, **kwargs)\u001b[0m\n\u001b[0;32m    465\u001b[0m \u001b[38;5;250m\u001b[39m\u001b[38;5;124;03m\"\"\"\u001b[39;00m\n\u001b[0;32m    466\u001b[0m \u001b[38;5;124;03mParallel coordinates plotting.\u001b[39;00m\n\u001b[0;32m    467\u001b[0m \n\u001b[1;32m   (...)\u001b[0m\n\u001b[0;32m    510\u001b[0m \u001b[38;5;124;03m    ... )  # doctest: +SKIP\u001b[39;00m\n\u001b[0;32m    511\u001b[0m \u001b[38;5;124;03m\"\"\"\u001b[39;00m\n\u001b[0;32m    512\u001b[0m plot_backend \u001b[38;5;241m=\u001b[39m _get_plot_backend(\u001b[38;5;124m\"\u001b[39m\u001b[38;5;124mmatplotlib\u001b[39m\u001b[38;5;124m\"\u001b[39m)\n\u001b[1;32m--> 513\u001b[0m \u001b[38;5;28;01mreturn\u001b[39;00m \u001b[43mplot_backend\u001b[49m\u001b[38;5;241;43m.\u001b[39;49m\u001b[43mparallel_coordinates\u001b[49m\u001b[43m(\u001b[49m\n\u001b[0;32m    514\u001b[0m \u001b[43m    \u001b[49m\u001b[43mframe\u001b[49m\u001b[38;5;241;43m=\u001b[39;49m\u001b[43mframe\u001b[49m\u001b[43m,\u001b[49m\n\u001b[0;32m    515\u001b[0m \u001b[43m    \u001b[49m\u001b[43mclass_column\u001b[49m\u001b[38;5;241;43m=\u001b[39;49m\u001b[43mclass_column\u001b[49m\u001b[43m,\u001b[49m\n\u001b[0;32m    516\u001b[0m \u001b[43m    \u001b[49m\u001b[43mcols\u001b[49m\u001b[38;5;241;43m=\u001b[39;49m\u001b[43mcols\u001b[49m\u001b[43m,\u001b[49m\n\u001b[0;32m    517\u001b[0m \u001b[43m    \u001b[49m\u001b[43max\u001b[49m\u001b[38;5;241;43m=\u001b[39;49m\u001b[43max\u001b[49m\u001b[43m,\u001b[49m\n\u001b[0;32m    518\u001b[0m \u001b[43m    \u001b[49m\u001b[43mcolor\u001b[49m\u001b[38;5;241;43m=\u001b[39;49m\u001b[43mcolor\u001b[49m\u001b[43m,\u001b[49m\n\u001b[0;32m    519\u001b[0m \u001b[43m    \u001b[49m\u001b[43muse_columns\u001b[49m\u001b[38;5;241;43m=\u001b[39;49m\u001b[43muse_columns\u001b[49m\u001b[43m,\u001b[49m\n\u001b[0;32m    520\u001b[0m \u001b[43m    \u001b[49m\u001b[43mxticks\u001b[49m\u001b[38;5;241;43m=\u001b[39;49m\u001b[43mxticks\u001b[49m\u001b[43m,\u001b[49m\n\u001b[0;32m    521\u001b[0m \u001b[43m    \u001b[49m\u001b[43mcolormap\u001b[49m\u001b[38;5;241;43m=\u001b[39;49m\u001b[43mcolormap\u001b[49m\u001b[43m,\u001b[49m\n\u001b[0;32m    522\u001b[0m \u001b[43m    \u001b[49m\u001b[43maxvlines\u001b[49m\u001b[38;5;241;43m=\u001b[39;49m\u001b[43maxvlines\u001b[49m\u001b[43m,\u001b[49m\n\u001b[0;32m    523\u001b[0m \u001b[43m    \u001b[49m\u001b[43maxvlines_kwds\u001b[49m\u001b[38;5;241;43m=\u001b[39;49m\u001b[43maxvlines_kwds\u001b[49m\u001b[43m,\u001b[49m\n\u001b[0;32m    524\u001b[0m \u001b[43m    \u001b[49m\u001b[43msort_labels\u001b[49m\u001b[38;5;241;43m=\u001b[39;49m\u001b[43msort_labels\u001b[49m\u001b[43m,\u001b[49m\n\u001b[0;32m    525\u001b[0m \u001b[43m    \u001b[49m\u001b[38;5;241;43m*\u001b[39;49m\u001b[38;5;241;43m*\u001b[39;49m\u001b[43mkwargs\u001b[49m\u001b[43m,\u001b[49m\n\u001b[0;32m    526\u001b[0m \u001b[43m\u001b[49m\u001b[43m)\u001b[49m\n",
      "File \u001b[1;32mc:\\Users\\shuri\\AppData\\Local\\Programs\\Python\\Python313\\Lib\\site-packages\\pandas\\plotting\\_matplotlib\\misc.py:411\u001b[0m, in \u001b[0;36mparallel_coordinates\u001b[1;34m(frame, class_column, cols, ax, color, use_columns, xticks, colormap, axvlines, axvlines_kwds, sort_labels, **kwds)\u001b[0m\n\u001b[0;32m    409\u001b[0m \u001b[38;5;28;01mif\u001b[39;00m label \u001b[38;5;129;01mnot\u001b[39;00m \u001b[38;5;129;01min\u001b[39;00m used_legends:\n\u001b[0;32m    410\u001b[0m     used_legends\u001b[38;5;241m.\u001b[39madd(label)\n\u001b[1;32m--> 411\u001b[0m     ax\u001b[38;5;241m.\u001b[39mplot(x, y, color\u001b[38;5;241m=\u001b[39m\u001b[43mcolors\u001b[49m\u001b[43m[\u001b[49m\u001b[43mkls\u001b[49m\u001b[43m]\u001b[49m, label\u001b[38;5;241m=\u001b[39mlabel, \u001b[38;5;241m*\u001b[39m\u001b[38;5;241m*\u001b[39mkwds)\n\u001b[0;32m    412\u001b[0m \u001b[38;5;28;01melse\u001b[39;00m:\n\u001b[0;32m    413\u001b[0m     ax\u001b[38;5;241m.\u001b[39mplot(x, y, color\u001b[38;5;241m=\u001b[39mcolors[kls], \u001b[38;5;241m*\u001b[39m\u001b[38;5;241m*\u001b[39mkwds)\n",
      "\u001b[1;31mKeyError\u001b[0m: np.float64(nan)"
     ]
    },
    {
     "data": {
      "image/png": "[encoded data removed]",
      "text/plain": [
       "<Figure size 1000x600 with 1 Axes>"
      ]
     },
     "metadata": {},
     "output_type": "display_data"
    }
   ],
   "source": [
    "from pandas.plotting import parallel_coordinates\n",
    "\n",
    "# Tạo dataframe cho visualization\n",
    "viz_df = pd.DataFrame(features_normalized, columns=features.columns)\n",
    "viz_df['Score'] = target\n",
    "\n",
    "# Vẽ parallel coordinates\n",
    "plt.figure(figsize=(10, 6))\n",
    "parallel_coordinates(viz_df, 'Score', colormap='viridis')\n",
    "plt.title('Mối quan hệ đa chiều giữa các đặc trưng và Score')\n",
    "plt.xlabel('Đặc trưng')\n",
    "plt.ylabel('Giá trị chuẩn hóa')\n",
    "plt.xticks(rotation=45)\n",
    "plt.show()"
   ]
  },
  {
   "cell_type": "markdown",
   "metadata": {},
   "source": [
    " 18. (15 điểm) Xây dựng ANN bằng PyTorch với kiến trúc như hình sau:\n",
    " • Input Layer: 5 nơ-ron.\n",
    " • Hidden Layer 1: 32 nơ-ron, ReLU.\n",
    " • Hidden Layer 2: 16 nơ-ron, ReLU.\n",
    " • Hidden Layer 3: 8 nơ-ron, ReLU.\n",
    " • Output Layer: 1 nơ-ron (Score).\n",
    " Huấn luyện với 200 epochs, batch size 16, chia 80% train / 20% test, dùng early stopping (pa\n",
    "tience=20). Vẽ biểu đồ loss, sau đó đề xuất một kiến trúc ANN khác (thay đổi số nơ-ron hoặc\n",
    " tầng) để cải thiện dự đoán, giải thích lý do dựa trên đặc điểm dữ liệu giáo dục."
   ]
  },
  {
   "cell_type": "code",
   "execution_count": 36,
   "metadata": {},
   "outputs": [
    {
     "name": "stdout",
     "output_type": "stream",
     "text": [
      "ScorePredictor(\n",
      "  (layers): Sequential(\n",
      "    (0): Linear(in_features=5, out_features=32, bias=True)\n",
      "    (1): ReLU()\n",
      "    (2): Linear(in_features=32, out_features=16, bias=True)\n",
      "    (3): ReLU()\n",
      "    (4): Linear(in_features=16, out_features=8, bias=True)\n",
      "    (5): ReLU()\n",
      "    (6): Linear(in_features=8, out_features=1, bias=True)\n",
      "  )\n",
      ")\n",
      "Early stopping at epoch 19\n"
     ]
    },
    {
     "data": {
      "image/png": "[encoded data removed]",
      "text/plain": [
       "<Figure size 1000x500 with 1 Axes>"
      ]
     },
     "metadata": {},
     "output_type": "display_data"
    }
   ],
   "source": [
    "import torch\n",
    "import torch.nn as nn\n",
    "import torch.optim as optim\n",
    "from sklearn.model_selection import train_test_split\n",
    "from torch.utils.data import DataLoader, TensorDataset\n",
    "import matplotlib.pyplot as plt\n",
    "\n",
    "# Chuyển dữ liệu sang tensor PyTorch\n",
    "X = torch.tensor(features_normalized, dtype=torch.float32)\n",
    "y = torch.tensor(target.values, dtype=torch.float32).view(-1, 1)\n",
    "\n",
    "# Chia tập train/test (80/20)\n",
    "X_train, X_test, y_train, y_test = train_test_split(X, y, test_size=0.2, random_state=42)\n",
    "\n",
    "# Tạo DataLoader\n",
    "train_dataset = TensorDataset(X_train, y_train)\n",
    "train_loader = DataLoader(train_dataset, batch_size=16, shuffle=True)\n",
    "\n",
    "class ScorePredictor(nn.Module):\n",
    "    def __init__(self):\n",
    "        super(ScorePredictor, self).__init__()\n",
    "        self.layers = nn.Sequential(\n",
    "            nn.Linear(5, 32),    # Input: 5 features\n",
    "            nn.ReLU(),\n",
    "            nn.Linear(32, 16),\n",
    "            nn.ReLU(),\n",
    "            nn.Linear(16, 8),\n",
    "            nn.ReLU(),\n",
    "            nn.Linear(8, 1)       # Output: 1 (Score)\n",
    "        )\n",
    "    \n",
    "    def forward(self, x):\n",
    "        return self.layers(x)\n",
    "\n",
    "model = ScorePredictor()\n",
    "print(model)\n",
    "\n",
    "criterion = nn.MSELoss()\n",
    "optimizer = optim.Adam(model.parameters(), lr=0.001)\n",
    "\n",
    "# Early stopping\n",
    "best_loss = float('inf')\n",
    "patience = 20\n",
    "counter = 0\n",
    "train_losses = []\n",
    "val_losses = []\n",
    "\n",
    "for epoch in range(200):\n",
    "    model.train()\n",
    "    epoch_loss = 0\n",
    "    for batch_x, batch_y in train_loader:\n",
    "        optimizer.zero_grad()\n",
    "        outputs = model(batch_x)\n",
    "        loss = criterion(outputs, batch_y)\n",
    "        loss.backward()\n",
    "        optimizer.step()\n",
    "        epoch_loss += loss.item()\n",
    "    \n",
    "    # Đánh giá trên tập validation\n",
    "    model.eval()\n",
    "    with torch.no_grad():\n",
    "        val_outputs = model(X_test)\n",
    "        val_loss = criterion(val_outputs, y_test)\n",
    "    \n",
    "    train_losses.append(epoch_loss/len(train_loader))\n",
    "    val_losses.append(val_loss.item())\n",
    "    \n",
    "    # Early stopping logic\n",
    "    if val_loss < best_loss:\n",
    "        best_loss = val_loss\n",
    "        counter = 0\n",
    "    else:\n",
    "        counter += 1\n",
    "        if counter >= patience:\n",
    "            print(f'Early stopping at epoch {epoch}')\n",
    "            break\n",
    "        \n",
    "plt.figure(figsize=(10, 5))\n",
    "plt.plot(train_losses, label='Training Loss')\n",
    "plt.plot(val_losses, label='Validation Loss')\n",
    "plt.xlabel('Epochs')\n",
    "plt.ylabel('Loss (MSE)')\n",
    "plt.legend()\n",
    "plt.title('Training and Validation Loss Curve')\n",
    "plt.show()\n",
    "\n"
   ]
  },
  {
   "cell_type": "code",
   "execution_count": null,
   "metadata": {},
   "outputs": [],
   "source": []
  }
 ],
 "metadata": {
  "kernelspec": {
   "display_name": "Python 3",
   "language": "python",
   "name": "python3"
  },
  "language_info": {
   "codemirror_mode": {
    "name": "ipython",
    "version": 3
   },
   "file_extension": ".py",
   "mimetype": "text/x-python",
   "name": "python",
   "nbconvert_exporter": "python",
   "pygments_lexer": "ipython3",
   "version": "3.13.2"
  }
 },
 "nbformat": 4,
 "nbformat_minor": 2
}

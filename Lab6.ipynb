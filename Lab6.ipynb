{
 "cells": [
  {
   "cell_type": "markdown",
   "metadata": {},
   "source": [
    "CƠ BẢN VỀ PYTORCH"
   ]
  },
  {
   "cell_type": "markdown",
   "metadata": {},
   "source": [
    "Dataset with pytorch"
   ]
  },
  {
   "cell_type": "code",
   "execution_count": 9,
   "metadata": {},
   "outputs": [
    {
     "name": "stdout",
     "output_type": "stream",
     "text": [
      "      Id  SepalLengthCm  SepalWidthCm  PetalLengthCm  PetalWidthCm  \\\n",
      "0      1            5.1           3.5            1.4           0.2   \n",
      "1      2            4.9           3.0            1.4           0.2   \n",
      "2      3            4.7           3.2            1.3           0.2   \n",
      "3      4            4.6           3.1            1.5           0.2   \n",
      "4      5            5.0           3.6            1.4           0.2   \n",
      "..   ...            ...           ...            ...           ...   \n",
      "145  146            6.7           3.0            5.2           2.3   \n",
      "146  147            6.3           2.5            5.0           1.9   \n",
      "147  148            6.5           3.0            5.2           2.0   \n",
      "148  149            6.2           3.4            5.4           2.3   \n",
      "149  150            5.9           3.0            5.1           1.8   \n",
      "\n",
      "            Species  \n",
      "0       Iris-setosa  \n",
      "1       Iris-setosa  \n",
      "2       Iris-setosa  \n",
      "3       Iris-setosa  \n",
      "4       Iris-setosa  \n",
      "..              ...  \n",
      "145  Iris-virginica  \n",
      "146  Iris-virginica  \n",
      "147  Iris-virginica  \n",
      "148  Iris-virginica  \n",
      "149  Iris-virginica  \n",
      "\n",
      "[150 rows x 6 columns]\n"
     ]
    }
   ],
   "source": [
    "import pandas as pd\n",
    "import torch\n",
    "\n",
    "df = pd.read_csv('iris.csv')\n",
    "\n",
    "print(df)"
   ]
  },
  {
   "cell_type": "code",
   "execution_count": 7,
   "metadata": {},
   "outputs": [
    {
     "data": {
      "text/plain": [
       "(150, 6)"
      ]
     },
     "execution_count": 7,
     "metadata": {},
     "output_type": "execute_result"
    }
   ],
   "source": [
    "df.shape"
   ]
  },
  {
   "cell_type": "code",
   "execution_count": 10,
   "metadata": {},
   "outputs": [],
   "source": [
    "from sklearn.preprocessing import LabelEncoder\n",
    "from sklearn.model_selection import train_test_split\n",
    "\n",
    "le = LabelEncoder()\n",
    "X = df.drop([\"Species\"], axis=1).values\n",
    "y = le.fit_transform(df[\"Species\"].values)\n",
    "\n",
    "# Chia dữ liệu với test size = 0.2\n",
    "X_train, X_test, y_train, y_test = train_test_split(X, y, test_size=0.2, random_state=42)\n",
    "\n",
    "X_train = torch.FloatTensor(X_train)\n",
    "X_test = torch.FloatTensor(X_test)\n",
    "y_train = torch.LongTensor(y_train)\n",
    "y_test = torch.LongTensor(y_test)"
   ]
  },
  {
   "cell_type": "code",
   "execution_count": 12,
   "metadata": {},
   "outputs": [
    {
     "name": "stdout",
     "output_type": "stream",
     "text": [
      "train size 120\n"
     ]
    }
   ],
   "source": [
    "print(f\"train size {len(y_train)}\")"
   ]
  },
  {
   "cell_type": "code",
   "execution_count": 13,
   "metadata": {},
   "outputs": [
    {
     "name": "stdout",
     "output_type": "stream",
     "text": [
      "tensor([0, 1, 2]) tensor([40, 41, 39])\n"
     ]
    }
   ],
   "source": [
    "labels, counts = y_train.unique(return_counts=True)\n",
    "print(labels, counts)"
   ]
  },
  {
   "cell_type": "code",
   "execution_count": 19,
   "metadata": {},
   "outputs": [
    {
     "name": "stdout",
     "output_type": "stream",
     "text": [
      "tensor(2., requires_grad=True)\n",
      "None\n"
     ]
    }
   ],
   "source": [
    "# Tạo một tensor với requirements_grad=True \n",
    "x = torch.tensor(2.0, requires_grad=True)\n",
    "print(x)\n",
    "print(x.grad)"
   ]
  },
  {
   "cell_type": "code",
   "execution_count": 15,
   "metadata": {},
   "outputs": [
    {
     "name": "stdout",
     "output_type": "stream",
     "text": [
      "tensor(63., grad_fn=<AddBackward0>)\n"
     ]
    }
   ],
   "source": [
    "# Định nghĩa hàm \n",
    "y = 2*x**4 + x**3 + 3*x**2 + 5*x + 1\n",
    "print(y)"
   ]
  },
  {
   "cell_type": "code",
   "execution_count": 23,
   "metadata": {},
   "outputs": [
    {
     "name": "stdout",
     "output_type": "stream",
     "text": [
      "tensor(1160.)\n"
     ]
    }
   ],
   "source": [
    "# Bài tập \n",
    "\n",
    "# Cho = 5x^6 + 3x^3 + 2x^1 + x + 2x+5x^4 + 1\n",
    "\n",
    "# Cho biết độ dốc của đa thức trên tại điểm nào\n",
    "x = torch.tensor(2.0, requires_grad=True)\n",
    "\n",
    "y = 5*x**6 + 3*x**3 + 2*x + 2*x + 5*x**4 + 1\n",
    "\n",
    "y.backward()\n",
    "\n",
    "print(x.grad)"
   ]
  },
  {
   "cell_type": "code",
   "execution_count": null,
   "metadata": {},
   "outputs": [],
   "source": [
    "# #BTVN 1:\n",
    "# Tạo một tensor có giá trị ban đầu là 2.0\n",
    "\n",
    "# Định nghĩa hàm số và tính gradiant \n",
    "\n",
    "# y = x^3 + 2x^2 + 5x + 1\n",
    "\n",
    "# Hãy tính dy/dx tại giá trị của x \n",
    "\n",
    "# Dùng phương pháp Gradient Descent với learning rate alpha = 0.1 để cập nhật giá trị x trong 10 vòng lặp\n",
    "\n",
    "# BTVN 2:\n",
    "    \n",
    "# Tạo một tập dữ liệu giả lập với x là số giờ học (ngẫu nhiên từ 1 - 10) và y là số điểm được tính theo công thức y = 3x + 5 + noise\n",
    "\n",
    "# Với noise là một giá trị ngẫu nhiên nhỏ\n",
    "\n",
    "# 1. Khởi tạo tham số w và b ngẫu nhiên với requires_grad=True\n",
    "# 2. Tính MSE\n",
    "# 3. Tính gradient\n",
    "# 4. Cập nhật tham số w và b bằng gradient Descent với Learning rate alpha = 0.01\n",
    "# 5. Lặp lại quá trình trên trong 100 vòng lặp và quan sát sự hội tụ của mô hình\n",
    "\n"
   ]
  },
  {
   "cell_type": "code",
   "execution_count": 4,
   "metadata": {},
   "outputs": [
    {
     "name": "stdout",
     "output_type": "stream",
     "text": [
      "Vòng lặp 1: x = -0.5, y = 27.0\n",
      "Vòng lặp 2: x = -0.875, y = -1.125\n",
      "Vòng lặp 3: x = -1.2546875476837158, y = -2.513671875\n",
      "Vòng lặp 4: x = -1.7250847816467285, y = -4.1001362800598145\n",
      "Vòng lặp 5: x = -2.427826166152954, y = -6.807298183441162\n",
      "Vòng lặp 6: x = -3.7249975204467773, y = -13.660883903503418\n",
      "Vòng lặp 7: x = -6.897680282592773, y = -41.56037521362305\n",
      "Vòng lặp 8: x = -18.912006378173828, y = -266.51019287109375\n",
      "Vòng lặp 9: x = -119.14640808105469, y = -6142.375\n",
      "Vòng lặp 10: x = -4330.74755859375, y = -1663589.5\n"
     ]
    }
   ],
   "source": [
    "import torch\n",
    "\n",
    "# Tạo tensor x với giá trị ban đầu là 2.0\n",
    "x = torch.tensor([2.0], requires_grad=True)\n",
    "\n",
    "# Định nghĩa hàm số y = x^3 + 2x^2 + 5x + 1\n",
    "def y(x):\n",
    "    return x**3 + 2*x**2 + 5*x + 1\n",
    "\n",
    "alpha = 0.1\n",
    "\n",
    "# Dùng phương pháp Gradient Descent với learning rate alpha = 0.1 để cập nhật giá trị x trong 10 vòng lặp\n",
    "for i in range(10):\n",
    "    y_val = y(x)\n",
    "    \n",
    "    y_val.backward()\n",
    "    \n",
    "    with torch.no_grad():\n",
    "        x -= alpha * x.grad\n",
    "    \n",
    "    x.grad.zero_()\n",
    "    \n",
    "    print(f\"Vòng lặp {i+1}: x = {x.item()}, y = {y_val.item()}\")"
   ]
  },
  {
   "cell_type": "code",
   "execution_count": 3,
   "metadata": {},
   "outputs": [
    {
     "name": "stdout",
     "output_type": "stream",
     "text": [
      "Vòng lặp 10: w = 3.5914905071258545, b = 0.6310285925865173, Loss = 2.1363797187805176\n",
      "Vòng lặp 20: w = 3.578610420227051, b = 0.7164723873138428, Loss = 2.061427593231201\n",
      "Vòng lặp 30: w = 3.566049814224243, b = 0.799793004989624, Loss = 1.9901536703109741\n",
      "Vòng lặp 40: w = 3.5538012981414795, b = 0.8810432553291321, Loss = 1.922379732131958\n",
      "Vòng lặp 50: w = 3.5418572425842285, b = 0.9602745771408081, Loss = 1.8579308986663818\n",
      "Vòng lặp 60: w = 3.530210018157959, b = 1.0375370979309082, Loss = 1.796645164489746\n",
      "Vòng lặp 70: w = 3.5188519954681396, b = 1.1128798723220825, Loss = 1.738366723060608\n",
      "Vòng lặp 80: w = 3.5077764987945557, b = 1.186350703239441, Loss = 1.682948112487793\n",
      "Vòng lặp 90: w = 3.496975898742676, b = 1.257995843887329, Loss = 1.6302505731582642\n",
      "Vòng lặp 100: w = 3.4864437580108643, b = 1.327860713005066, Loss = 1.5801390409469604\n"
     ]
    }
   ],
   "source": [
    "import torch\n",
    "import numpy as np\n",
    "\n",
    "# Tạo một tập dữ liệu giả lập với x là số giờ học (ngẫu nhiên từ 1 - 10) và y là số điểm được tính theo công thức y = 3x + 5 + noise\n",
    "np.random.seed(42)\n",
    "x_data = np.random.randint(1, 11, size=20)  \n",
    "noise = np.random.normal(0, 1, size=20)     \n",
    "y_data = 3 * x_data + 5 + noise            \n",
    "\n",
    "x_data = torch.tensor(x_data, dtype=torch.float32)\n",
    "y_data = torch.tensor(y_data, dtype=torch.float32)\n",
    "\n",
    "# Cập nhật tham số w và b bằng gradient Descent với Learning rate alpha = 0.01\n",
    "w = torch.tensor([0.0], requires_grad=True)\n",
    "b = torch.tensor([0.0], requires_grad=True)\n",
    "\n",
    "alpha = 0.01\n",
    "\n",
    "# Hàm tính MSE\n",
    "def mse_loss(y_pred, y_true):\n",
    "    return ((y_pred - y_true) ** 2).mean()\n",
    "\n",
    "# Lặp lại quá trình trên trong 100 vòng lặp và quan sát sự hội tụ của mô hình\n",
    "for i in range(100):\n",
    "    y_pred = w * x_data + b\n",
    "    \n",
    "    # Tính MSE\n",
    "    loss = mse_loss(y_pred, y_data)\n",
    "    \n",
    "    # Tính gradient\n",
    "    loss.backward()\n",
    "    \n",
    "    with torch.no_grad():\n",
    "        w -= alpha * w.grad\n",
    "        b -= alpha * b.grad\n",
    "    \n",
    "    w.grad.zero_()\n",
    "    b.grad.zero_()\n",
    "    \n",
    "    if (i+1) % 10 == 0:\n",
    "        print(f\"Vòng lặp {i+1}: w = {w.item()}, b = {b.item()}, Loss = {loss.item()}\")"
   ]
  },
  {
   "cell_type": "code",
   "execution_count": 25,
   "metadata": {},
   "outputs": [],
   "source": [
    "# Pytorch with tensor\n",
    "\n",
    "import torch\n",
    "import numpy as np"
   ]
  },
  {
   "cell_type": "code",
   "execution_count": 26,
   "metadata": {},
   "outputs": [
    {
     "data": {
      "text/plain": [
       "'2.6.0+cpu'"
      ]
     },
     "execution_count": 26,
     "metadata": {},
     "output_type": "execute_result"
    }
   ],
   "source": [
    "torch.__version__"
   ]
  },
  {
   "cell_type": "code",
   "execution_count": 27,
   "metadata": {},
   "outputs": [
    {
     "name": "stdout",
     "output_type": "stream",
     "text": [
      "[1 2 3 4 5]\n",
      "int64\n",
      "<class 'numpy.ndarray'>\n"
     ]
    }
   ],
   "source": [
    "# Chuyển đổi mảng numpy sang tensor pytorch \n",
    "arr = np.array([1, 2, 3, 4, 5])\n",
    "print(arr)\n",
    "print(arr.dtype)\n",
    "print(type(arr))"
   ]
  },
  {
   "cell_type": "code",
   "execution_count": 28,
   "metadata": {},
   "outputs": [
    {
     "name": "stdout",
     "output_type": "stream",
     "text": [
      "tensor([1, 2, 3, 4, 5])\n"
     ]
    }
   ],
   "source": [
    "x = torch.from_numpy(arr)\n",
    "print(x)"
   ]
  },
  {
   "cell_type": "code",
   "execution_count": 29,
   "metadata": {},
   "outputs": [
    {
     "name": "stdout",
     "output_type": "stream",
     "text": [
      "torch.int64\n"
     ]
    }
   ],
   "source": [
    "print(x.dtype)"
   ]
  },
  {
   "cell_type": "code",
   "execution_count": 30,
   "metadata": {},
   "outputs": [
    {
     "name": "stdout",
     "output_type": "stream",
     "text": [
      "torch.LongTensor\n"
     ]
    }
   ],
   "source": [
    "print(x.type())"
   ]
  },
  {
   "cell_type": "code",
   "execution_count": 31,
   "metadata": {},
   "outputs": [
    {
     "name": "stdout",
     "output_type": "stream",
     "text": [
      "[[ 0.  1.  2.]\n",
      " [ 3.  4.  5.]\n",
      " [ 6.  7.  8.]\n",
      " [ 9. 10. 11.]]\n"
     ]
    }
   ],
   "source": [
    "arr2 = np.arange(0.,12.).reshape(4,3)\n",
    "print(arr2)"
   ]
  },
  {
   "cell_type": "code",
   "execution_count": 32,
   "metadata": {},
   "outputs": [
    {
     "name": "stdout",
     "output_type": "stream",
     "text": [
      "tensor([[ 0.,  1.,  2.],\n",
      "        [ 3.,  4.,  5.],\n",
      "        [ 6.,  7.,  8.],\n",
      "        [ 9., 10., 11.]], dtype=torch.float64)\n",
      "torch.DoubleTensor\n"
     ]
    }
   ],
   "source": [
    "x2 = torch.from_numpy(arr2)\n",
    "print(x2)\n",
    "print(x2.type())"
   ]
  },
  {
   "cell_type": "code",
   "execution_count": 35,
   "metadata": {},
   "outputs": [
    {
     "name": "stdout",
     "output_type": "stream",
     "text": [
      "tensor([0, 1, 2, 3, 4])\n"
     ]
    }
   ],
   "source": [
    "arr = np.arange(0, 5)\n",
    "x = torch.from_numpy(arr)\n",
    "print(x)"
   ]
  },
  {
   "cell_type": "code",
   "execution_count": null,
   "metadata": {},
   "outputs": [],
   "source": [
    "# BTVN 4: Giải thích lý do tại sao cho 2 trường hợp trên\n",
    "\n",
    "# BTVN 4: Bạn hãy giúp thầy về nhà tạo tensor với:\n",
    "# Empyty\n",
    "# Zeros\n",
    "# Ones\n",
    "# Random\n",
    "# Reshape với view và view as\n",
    "\n",
    "# Deadline 15/3"
   ]
  },
  {
   "cell_type": "code",
   "execution_count": 5,
   "metadata": {},
   "outputs": [
    {
     "name": "stdout",
     "output_type": "stream",
     "text": [
      "Empty Tensor:\n",
      "tensor([[8.4376e+34, 2.0221e-42, 0.0000e+00],\n",
      "        [0.0000e+00, 0.0000e+00, 0.0000e+00]])\n",
      "\n",
      "Zeros Tensor:\n",
      "tensor([[0., 0., 0.],\n",
      "        [0., 0., 0.]])\n",
      "\n",
      "Ones Tensor:\n",
      "tensor([[1., 1., 1.],\n",
      "        [1., 1., 1.]])\n",
      "\n",
      "Random Tensor:\n",
      "tensor([[0.1689, 0.9219, 0.7951],\n",
      "        [0.6026, 0.0044, 0.0657]])\n",
      "\n",
      "Tensor gốc:\n",
      "tensor([0, 1, 2, 3, 4, 5])\n",
      "\n",
      "Reshaped Tensor (view):\n",
      "tensor([[0, 1, 2],\n",
      "        [3, 4, 5]])\n",
      "\n",
      "Reshaped Tensor (view as):\n",
      "tensor([[0, 1],\n",
      "        [2, 3],\n",
      "        [4, 5]])\n"
     ]
    }
   ],
   "source": [
    "import torch\n",
    "\n",
    "# Empyty\n",
    "empty_tensor = torch.empty(2, 3)\n",
    "print(\"Empty Tensor:\")\n",
    "print(empty_tensor)\n",
    "\n",
    "# Zeros\n",
    "zeros_tensor = torch.zeros(2, 3)\n",
    "print(\"\\nZeros Tensor:\")\n",
    "print(zeros_tensor)\n",
    "\n",
    "# Ones\n",
    "ones_tensor = torch.ones(2, 3)\n",
    "print(\"\\nOnes Tensor:\")\n",
    "print(ones_tensor)\n",
    "\n",
    "# Random\n",
    "random_tensor = torch.rand(2, 3)\n",
    "print(\"\\nRandom Tensor:\")\n",
    "print(random_tensor)\n",
    "\n",
    "# Reshape với view và view as\n",
    "original_tensor = torch.arange(6)  \n",
    "print(\"\\nTensor gốc:\")\n",
    "print(original_tensor)\n",
    "\n",
    "reshaped_tensor = original_tensor.view(2, 3)\n",
    "print(\"\\nReshaped Tensor (view):\")\n",
    "print(reshaped_tensor)\n",
    "\n",
    "another_tensor = torch.zeros(3, 2)\n",
    "reshaped_tensor_as = original_tensor.view_as(another_tensor)\n",
    "print(\"\\nReshaped Tensor (view as):\")\n",
    "print(reshaped_tensor_as)\n",
    "\n"
   ]
  },
  {
   "cell_type": "code",
   "execution_count": null,
   "metadata": {},
   "outputs": [],
   "source": []
  }
 ],
 "metadata": {
  "kernelspec": {
   "display_name": "Python 3",
   "language": "python",
   "name": "python3"
  },
  "language_info": {
   "codemirror_mode": {
    "name": "ipython",
    "version": 3
   },
   "file_extension": ".py",
   "mimetype": "text/x-python",
   "name": "python",
   "nbconvert_exporter": "python",
   "pygments_lexer": "ipython3",
   "version": "3.13.2"
  }
 },
 "nbformat": 4,
 "nbformat_minor": 2
}
